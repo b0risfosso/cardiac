{
 "cells": [
  {
   "cell_type": "code",
   "execution_count": 1,
   "id": "f7cfe4fd-ecb7-4341-86c3-0cbc10e0d380",
   "metadata": {},
   "outputs": [
    {
     "data": {
      "text/plain": [
       "'/opt/homebrew/Caskroom/miniconda/base/envs/bioenv/bin/python'"
      ]
     },
     "execution_count": 1,
     "metadata": {},
     "output_type": "execute_result"
    }
   ],
   "source": [
    "import sys\n",
    "sys.executable"
   ]
  },
  {
   "cell_type": "code",
   "execution_count": null,
   "id": "9f32d8df-50d7-4700-b15e-eba265a35a57",
   "metadata": {},
   "outputs": [],
   "source": [
    "!pip install datasets\n",
    "!pip install pyabf\n",
    "!pip install wfdb\n",
    "!pip install scipy\n",
    "!pip install json"
   ]
  },
  {
   "cell_type": "code",
   "execution_count": 2,
   "id": "ad5d3d37-63c2-4b58-9d0a-749c016f771e",
   "metadata": {},
   "outputs": [],
   "source": [
    "import torch\n",
    "import torch.nn as nn\n",
    "import torch.optim as optim\n",
    "import random\n",
    "import numpy as np\n",
    "import pandas as pd\n",
    "import spacy\n",
    "import datasets\n",
    "from datasets import Dataset\n",
    "import tqdm\n",
    "#import evaluate\n",
    "from collections import Counter, defaultdict\n",
    "import pyabf\n",
    "import ast\n",
    "import matplotlib.pyplot as plt\n",
    "import matplotlib.ticker as ticker\n",
    "import json\n",
    "import wfdb\n",
    "import scipy.io"
   ]
  },
  {
   "cell_type": "code",
   "execution_count": null,
   "id": "e1e3276f-5587-4cfd-852c-cbcfa9e2deb9",
   "metadata": {},
   "outputs": [],
   "source": [
    "from google.colab import drive\n",
    "drive.mount('/content/drive')"
   ]
  },
  {
   "cell_type": "code",
   "execution_count": null,
   "id": "63f91831-978e-4d4a-9b3b-77670cc60b9a",
   "metadata": {},
   "outputs": [],
   "source": [
    "folder_path = \"/content/drive/MyDrive/physionet.org\""
   ]
  },
  {
   "cell_type": "code",
   "execution_count": 2,
   "id": "f9ac889e-6517-48e6-8db5-6e21c9dda255",
   "metadata": {},
   "outputs": [
    {
     "name": "stdout",
     "output_type": "stream",
     "text": [
      "<wfdb.io.record.Record object at 0x12cd23820>\n",
      "{'val': array([[  28,   39,   45, ...,  258,  259,  259],\n",
      "       [   7,   11,   15, ...,  248,  249,  250],\n",
      "       [ -21,  -28,  -30, ...,  -10,  -10,   -9],\n",
      "       ...,\n",
      "       [-112, -110, -108, ...,  194,  194,  195],\n",
      "       [-596, -590, -582, ...,  307,  307,  307],\n",
      "       [ -16,   -7,    2, ...,  213,  214,  214]], dtype=int16)}\n"
     ]
    }
   ],
   "source": [
    "# Reading the .hea file\n",
    "record = wfdb.rdheader(folder_path + '/files/challenge-2020/1.0.2/training/cpsc_2018/g1/A0001')\n",
    "\n",
    "# Display the header information\n",
    "print(record)\n",
    "\n",
    "# Reading the .mat file\n",
    "mat_data = scipy.io.loadmat(folder_path + '/files/challenge-2020/1.0.2/training/cpsc_2018/g1/A0001.mat')\n",
    "\n",
    "# Display the .mat file content\n",
    "print(mat_data)\n"
   ]
  },
  {
   "cell_type": "code",
   "execution_count": null,
   "id": "b5899688-dbc0-4c05-8e3e-1fd78fd1b888",
   "metadata": {},
   "outputs": [],
   "source": [
    "\n",
    "# Path to the SHA256SUMS.txt file\n",
    "sha256_file_path = folder_path + '/files/challenge-2020/1.0.2/SHA256SUMS.txt'\n",
    "\n",
    "data = []\n",
    "error_files = []\n",
    "\n",
    "# Read the SHA256SUMS.txt file\n",
    "with open(sha256_file_path, 'r') as file:\n",
    "    lines = file.readlines()\n",
    "\n",
    "for line in lines:\n",
    "    parts = line.split()\n",
    "    file_path = parts[1] if len(parts) > 1 else None\n",
    "\n",
    "    if file_path and file_path.startswith('training') and file_path.endswith('.hea'):\n",
    "        base_file_path = folder_path + '/files/challenge-2020/1.0.2/' + file_path[:-4]\n",
    "\n",
    "        try:\n",
    "            # Read the .hea file\n",
    "            hea_record = wfdb.rdheader(base_file_path)\n",
    "\n",
    "            # Read the .mat file\n",
    "            mat_file_path = base_file_path + \".mat\"\n",
    "            mat_data = scipy.io.loadmat(mat_file_path)\n",
    "\n",
    "            # Extract data and diagnosis\n",
    "            record_dict = hea_record.__dict__\n",
    "            comments = record_dict['comments']\n",
    "            dx_comment = next((comment for comment in comments if comment.startswith('Dx:')), None)\n",
    "            diagnosis = dx_comment.split('Dx: ')[1] if dx_comment else \"Unknown\"\n",
    "            input_data = mat_data['val'].flatten().tolist()\n",
    "\n",
    "            # Create the dictionary and add to the list\n",
    "            record_dict = {\n",
    "                \"input\": input_data,\n",
    "                \"output\": diagnosis\n",
    "            }\n",
    "            data.append(record_dict)\n",
    "\n",
    "        except Exception as e:\n",
    "            print(f\"Error processing file {file_path}: {e}\")\n",
    "            error_files.append(base_file_path)\n",
    "\n",
    "        # Save the data to a file every 1000 records\n",
    "        if len(data) % 1000 == 0:\n",
    "            output_file_path = f'physionet_dataset_{len(data)}.json'\n",
    "\n",
    "            with open(output_file_path, 'w') as f:\n",
    "                json.dump(data, f)\n",
    "\n",
    "            print(f\"data_list has been saved to {output_file_path}\")\n",
    "\n",
    "# Optionally, save any remaining data after the loop ends\n",
    "if data:\n",
    "    output_file_path = '/content/drive/MyDrive/physionet_dataset_final.json'\n",
    "    with open(output_file_path, 'w') as f:\n",
    "        json.dump(data, f)\n",
    "\n",
    "    print(f\"Final data_list has been saved to {output_file_path}\")\n"
   ]
  }
 ],
 "metadata": {
  "kernelspec": {
   "display_name": "Python (bioenv)",
   "language": "python",
   "name": "bioenv"
  },
  "language_info": {
   "codemirror_mode": {
    "name": "ipython",
    "version": 3
   },
   "file_extension": ".py",
   "mimetype": "text/x-python",
   "name": "python",
   "nbconvert_exporter": "python",
   "pygments_lexer": "ipython3",
   "version": "3.10.14"
  }
 },
 "nbformat": 4,
 "nbformat_minor": 5
}
