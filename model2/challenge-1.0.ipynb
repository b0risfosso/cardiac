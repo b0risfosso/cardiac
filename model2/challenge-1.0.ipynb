{
 "cells": [
  {
   "cell_type": "code",
   "execution_count": 1,
   "id": "f7cfe4fd-ecb7-4341-86c3-0cbc10e0d380",
   "metadata": {},
   "outputs": [
    {
     "name": "stdout",
     "output_type": "stream",
     "text": [
      "six six six\n",
      "satanist\n"
     ]
    }
   ],
   "source": [
    "print(\"six six six\")\n",
    "print(\"satanist\")"
   ]
  },
  {
   "cell_type": "code",
   "execution_count": null,
   "id": "ad5d3d37-63c2-4b58-9d0a-749c016f771e",
   "metadata": {},
   "outputs": [],
   "source": []
  }
 ],
 "metadata": {
  "kernelspec": {
   "display_name": "Python (myenv)",
   "language": "python",
   "name": "myenv"
  },
  "language_info": {
   "codemirror_mode": {
    "name": "ipython",
    "version": 3
   },
   "file_extension": ".py",
   "mimetype": "text/x-python",
   "name": "python",
   "nbconvert_exporter": "python",
   "pygments_lexer": "ipython3",
   "version": "3.12.2"
  }
 },
 "nbformat": 4,
 "nbformat_minor": 5
}
