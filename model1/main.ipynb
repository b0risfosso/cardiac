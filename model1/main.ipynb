{
 "cells": [
  {
   "cell_type": "code",
   "execution_count": 1,
   "id": "3e00f918-032b-4724-bc4d-5e11173b142a",
   "metadata": {},
   "outputs": [],
   "source": [
    "# classify phase 0, 1, 2, 3, 4 at cardiac action potentials"
   ]
  },
  {
   "cell_type": "code",
   "execution_count": 2,
   "id": "a27bd91c-03e4-4e83-a1df-0a94e6ab0485",
   "metadata": {
    "scrolled": true
   },
   "outputs": [
    {
     "name": "stdout",
     "output_type": "stream",
     "text": [
      "Requirement already satisfied: pyabf in ./new_env/lib/python3.12/site-packages (2.3.8)\n",
      "Requirement already satisfied: matplotlib>=2.1.0 in ./new_env/lib/python3.12/site-packages (from pyabf) (3.9.1)\n",
      "Requirement already satisfied: numpy>=1.13.3 in ./new_env/lib/python3.12/site-packages (from pyabf) (1.26.4)\n",
      "Requirement already satisfied: pytest>=3.0.7 in ./new_env/lib/python3.12/site-packages (from pyabf) (8.3.2)\n",
      "Requirement already satisfied: contourpy>=1.0.1 in ./new_env/lib/python3.12/site-packages (from matplotlib>=2.1.0->pyabf) (1.2.1)\n",
      "Requirement already satisfied: cycler>=0.10 in ./new_env/lib/python3.12/site-packages (from matplotlib>=2.1.0->pyabf) (0.12.1)\n",
      "Requirement already satisfied: fonttools>=4.22.0 in ./new_env/lib/python3.12/site-packages (from matplotlib>=2.1.0->pyabf) (4.53.1)\n",
      "Requirement already satisfied: kiwisolver>=1.3.1 in ./new_env/lib/python3.12/site-packages (from matplotlib>=2.1.0->pyabf) (1.4.5)\n",
      "Requirement already satisfied: packaging>=20.0 in ./new_env/lib/python3.12/site-packages (from matplotlib>=2.1.0->pyabf) (24.1)\n",
      "Requirement already satisfied: pillow>=8 in ./new_env/lib/python3.12/site-packages (from matplotlib>=2.1.0->pyabf) (10.4.0)\n",
      "Requirement already satisfied: pyparsing>=2.3.1 in ./new_env/lib/python3.12/site-packages (from matplotlib>=2.1.0->pyabf) (3.1.2)\n",
      "Requirement already satisfied: python-dateutil>=2.7 in ./new_env/lib/python3.12/site-packages (from matplotlib>=2.1.0->pyabf) (2.9.0.post0)\n",
      "Requirement already satisfied: iniconfig in ./new_env/lib/python3.12/site-packages (from pytest>=3.0.7->pyabf) (2.0.0)\n",
      "Requirement already satisfied: pluggy<2,>=1.5 in ./new_env/lib/python3.12/site-packages (from pytest>=3.0.7->pyabf) (1.5.0)\n",
      "Requirement already satisfied: six>=1.5 in ./new_env/lib/python3.12/site-packages (from python-dateutil>=2.7->matplotlib>=2.1.0->pyabf) (1.16.0)\n",
      "\n",
      "\u001b[1m[\u001b[0m\u001b[34;49mnotice\u001b[0m\u001b[1;39;49m]\u001b[0m\u001b[39;49m A new release of pip is available: \u001b[0m\u001b[31;49m24.0\u001b[0m\u001b[39;49m -> \u001b[0m\u001b[32;49m24.2\u001b[0m\n",
      "\u001b[1m[\u001b[0m\u001b[34;49mnotice\u001b[0m\u001b[1;39;49m]\u001b[0m\u001b[39;49m To update, run: \u001b[0m\u001b[32;49mpip install --upgrade pip\u001b[0m\n"
     ]
    }
   ],
   "source": [
    "!pip install pyabf\n",
    "import pyabf"
   ]
  },
  {
   "cell_type": "code",
   "execution_count": null,
   "id": "4fb8729b-ba0b-4751-9aa6-97613036a367",
   "metadata": {},
   "outputs": [],
   "source": [
    "######################### BUILD THE DATASET ############################"
   ]
  },
  {
   "cell_type": "code",
   "execution_count": 3,
   "id": "f33f074e-13ed-403d-882f-fd07893218bc",
   "metadata": {},
   "outputs": [],
   "source": [
    "# Function to plot phases based on given start and end times\n",
    "def plot_phases(sweepX, sweepY, phase_times):\n",
    "    plt.figure(figsize=(15, 6))\n",
    "    \n",
    "    # Define colors for each phase\n",
    "    colors = {\n",
    "        0: \"red\",\n",
    "        1: \"orange\",\n",
    "        2: \"yellow\",\n",
    "        3: \"green\",\n",
    "        4: \"blue\"\n",
    "    }\n",
    "    \n",
    "    # Plot the original signal\n",
    "    plt.plot(sweepX, sweepY, label=\"Original Signal\", color='black')\n",
    "    \n",
    "    # Plot each phase with a distinct color\n",
    "    for phase, (start_time, end_time) in enumerate(phase_times):\n",
    "        phase_indices = np.where((sweepX >= start_time) & (sweepX <= end_time))[0]\n",
    "        plt.plot(sweepX[phase_indices], sweepY[phase_indices], '.', color=colors[phase], label=f\"Phase {phase}\")\n",
    "    \n",
    "    plt.xlabel(\"Time (s)\")\n",
    "    plt.ylabel(\"Amplitude (pA or mV)\")\n",
    "    plt.title(\"Action Potential Phases\")\n",
    "    plt.legend()\n",
    "    plt.grid(True)\n",
    "    plt.show()"
   ]
  },
  {
   "cell_type": "code",
   "execution_count": 4,
   "id": "00b160de-505d-45d8-8d5a-a3aed7fcf4d3",
   "metadata": {},
   "outputs": [],
   "source": [
    "# define save function\n",
    "\n",
    "import csv\n",
    "import os\n",
    "\n",
    "def save_to_csv(sweepX, sweepY, phase_times, csv_file_path, random_sweep_index):\n",
    "    # Save phase times and derivatives to CSV\n",
    "    file_exists = os.path.isfile(csv_file_path)\n",
    "    with open(csv_file_path, mode='a', newline='') as file:\n",
    "        writer = csv.writer(file)\n",
    "        if not file_exists:\n",
    "            writer.writerow(['File Path', 'Phase', 'Start Time (s)', 'End Time (s)', 'X Values', 'Y Values', 'Sweep Index'])\n",
    "        for phase, (start_time, end_time) in enumerate(phase_times):\n",
    "            phase_indices = np.where((sweepX >= start_time) & (sweepX <= end_time))[0]\n",
    "            phase_x_values = sweepX[phase_indices].tolist()\n",
    "            phase_y_values = sweepY[phase_indices].tolist()\n",
    "            writer.writerow([file_path, phase, start_time, end_time, phase_x_values, phase_y_values, random_sweep_index])\n",
    "    \n",
    "    print(f\"Phase times and x,y saved to {csv_file_path}\")"
   ]
  },
  {
   "cell_type": "code",
   "execution_count": 8,
   "id": "889a9750-404a-4401-9017-aa37fd8e83ef",
   "metadata": {},
   "outputs": [
    {
     "name": "stdout",
     "output_type": "stream",
     "text": [
      "Requirement already satisfied: matplotlib in ./new_env/lib/python3.12/site-packages (3.9.1)\n",
      "Requirement already satisfied: contourpy>=1.0.1 in ./new_env/lib/python3.12/site-packages (from matplotlib) (1.2.1)\n",
      "Requirement already satisfied: cycler>=0.10 in ./new_env/lib/python3.12/site-packages (from matplotlib) (0.12.1)\n",
      "Requirement already satisfied: fonttools>=4.22.0 in ./new_env/lib/python3.12/site-packages (from matplotlib) (4.53.1)\n",
      "Requirement already satisfied: kiwisolver>=1.3.1 in ./new_env/lib/python3.12/site-packages (from matplotlib) (1.4.5)\n",
      "Requirement already satisfied: numpy>=1.23 in ./new_env/lib/python3.12/site-packages (from matplotlib) (1.26.4)\n",
      "Requirement already satisfied: packaging>=20.0 in ./new_env/lib/python3.12/site-packages (from matplotlib) (24.1)\n",
      "Requirement already satisfied: pillow>=8 in ./new_env/lib/python3.12/site-packages (from matplotlib) (10.4.0)\n",
      "Requirement already satisfied: pyparsing>=2.3.1 in ./new_env/lib/python3.12/site-packages (from matplotlib) (3.1.2)\n",
      "Requirement already satisfied: python-dateutil>=2.7 in ./new_env/lib/python3.12/site-packages (from matplotlib) (2.9.0.post0)\n",
      "Requirement already satisfied: six>=1.5 in ./new_env/lib/python3.12/site-packages (from python-dateutil>=2.7->matplotlib) (1.16.0)\n",
      "\n",
      "\u001b[1m[\u001b[0m\u001b[34;49mnotice\u001b[0m\u001b[1;39;49m]\u001b[0m\u001b[39;49m A new release of pip is available: \u001b[0m\u001b[31;49m24.0\u001b[0m\u001b[39;49m -> \u001b[0m\u001b[32;49m24.2\u001b[0m\n",
      "\u001b[1m[\u001b[0m\u001b[34;49mnotice\u001b[0m\u001b[1;39;49m]\u001b[0m\u001b[39;49m To update, run: \u001b[0m\u001b[32;49mpip install --upgrade pip\u001b[0m\n",
      "Requirement already satisfied: pandas in ./new_env/lib/python3.12/site-packages (2.2.2)\n",
      "Requirement already satisfied: numpy>=1.26.0 in ./new_env/lib/python3.12/site-packages (from pandas) (1.26.4)\n",
      "Requirement already satisfied: python-dateutil>=2.8.2 in ./new_env/lib/python3.12/site-packages (from pandas) (2.9.0.post0)\n",
      "Requirement already satisfied: pytz>=2020.1 in ./new_env/lib/python3.12/site-packages (from pandas) (2024.1)\n",
      "Requirement already satisfied: tzdata>=2022.7 in ./new_env/lib/python3.12/site-packages (from pandas) (2024.1)\n",
      "Requirement already satisfied: six>=1.5 in ./new_env/lib/python3.12/site-packages (from python-dateutil>=2.8.2->pandas) (1.16.0)\n",
      "\n",
      "\u001b[1m[\u001b[0m\u001b[34;49mnotice\u001b[0m\u001b[1;39;49m]\u001b[0m\u001b[39;49m A new release of pip is available: \u001b[0m\u001b[31;49m24.0\u001b[0m\u001b[39;49m -> \u001b[0m\u001b[32;49m24.2\u001b[0m\n",
      "\u001b[1m[\u001b[0m\u001b[34;49mnotice\u001b[0m\u001b[1;39;49m]\u001b[0m\u001b[39;49m To update, run: \u001b[0m\u001b[32;49mpip install --upgrade pip\u001b[0m\n",
      "Collecting openpyxl\n",
      "  Downloading openpyxl-3.1.5-py2.py3-none-any.whl.metadata (2.5 kB)\n",
      "Collecting et-xmlfile (from openpyxl)\n",
      "  Downloading et_xmlfile-1.1.0-py3-none-any.whl.metadata (1.8 kB)\n",
      "Downloading openpyxl-3.1.5-py2.py3-none-any.whl (250 kB)\n",
      "\u001b[2K   \u001b[90m━━━━━━━━━━━━━━━━━━━━━━━━━━━━━━━━━━━━━━━━\u001b[0m \u001b[32m250.9/250.9 kB\u001b[0m \u001b[31m2.1 MB/s\u001b[0m eta \u001b[36m0:00:00\u001b[0ma \u001b[36m0:00:01\u001b[0mm\n",
      "\u001b[?25hDownloading et_xmlfile-1.1.0-py3-none-any.whl (4.7 kB)\n",
      "Installing collected packages: et-xmlfile, openpyxl\n",
      "Successfully installed et-xmlfile-1.1.0 openpyxl-3.1.5\n",
      "\n",
      "\u001b[1m[\u001b[0m\u001b[34;49mnotice\u001b[0m\u001b[1;39;49m]\u001b[0m\u001b[39;49m A new release of pip is available: \u001b[0m\u001b[31;49m24.0\u001b[0m\u001b[39;49m -> \u001b[0m\u001b[32;49m24.2\u001b[0m\n",
      "\u001b[1m[\u001b[0m\u001b[34;49mnotice\u001b[0m\u001b[1;39;49m]\u001b[0m\u001b[39;49m To update, run: \u001b[0m\u001b[32;49mpip install --upgrade pip\u001b[0m\n"
     ]
    }
   ],
   "source": [
    "!pip install matplotlib\n",
    "!pip install pandas\n",
    "!pip install openpyxl"
   ]
  },
  {
   "cell_type": "code",
   "execution_count": 59,
   "id": "7bd025de-0e0a-45c7-9a77-cc0b7a93abf2",
   "metadata": {},
   "outputs": [
    {
     "name": "stdout",
     "output_type": "stream",
     "text": [
      "Randomly chosen filename: sub-10-28-2019/sam-2019-10-28-0004-CF/2019_10_28_0004_CF.abf\n",
      "Randomly chosen sweep index: 69\n"
     ]
    }
   ],
   "source": [
    "# import packages\n",
    "import pyabf\n",
    "import numpy as np\n",
    "import matplotlib.pyplot as plt\n",
    "import random\n",
    "import pandas as pd\n",
    "\n",
    "# read the file\n",
    "# Define the path to the Excel file\n",
    "excel_file_path = \"/Users/b/bio/cardiac/Pennsieve-dataset-297-version-1/files/primary/manifest.xlsx\"\n",
    "\n",
    "# Read the Excel file\n",
    "df = pd.read_excel(excel_file_path)\n",
    "\n",
    "# Select the \"filename\" column\n",
    "filenames = df['filename']\n",
    "\n",
    "# Choose a random filename\n",
    "random_filename = random.choice(filenames)\n",
    "\n",
    "file_path = \"/Users/b/bio/cardiac/Pennsieve-dataset-297-version-1/files/primary/\" + random_filename\n",
    "print(f\"Randomly chosen filename: {random_filename}\")\n",
    "\n",
    "# Load the ABF file\n",
    "abf = pyabf.ABF(file_path)\n",
    "\n",
    "# Get the total number of sweeps\n",
    "sweep_count = abf.sweepCount\n",
    "\n",
    "# Choose a random sweep index\n",
    "random_sweep_index = random.randint(0, sweep_count - 1)\n",
    "print(f\"Randomly chosen sweep index: {random_sweep_index}\")"
   ]
  },
  {
   "cell_type": "code",
   "execution_count": 69,
   "id": "a3297ca5-4ead-475c-a88f-ed52b503d3e6",
   "metadata": {},
   "outputs": [
    {
     "data": {
      "image/png": "[encoded data removed]",
      "text/plain": [
       "<Figure size 1500x600 with 1 Axes>"
      ]
     },
     "metadata": {},
     "output_type": "display_data"
    }
   ],
   "source": [
    "##### Analyze and get the sweep data\n",
    "abf.setSweep(random_sweep_index)\n",
    "sweepX = abf.sweepX\n",
    "sweepY = abf.sweepY\n",
    "\n",
    "\n",
    "# Define the phase times (start_time, end_time) for each phase\n",
    "phase_times = [\n",
    "    (0.02, 0.035),  # Phase 0\n",
    "    (0.035, 0.08),  # Phase 1\n",
    "    (0.08, 0.30),  # Phase 2\n",
    "    (0.30, 0.40),  # Phase 3\n",
    "    (0.40, 2.0)   # Phase 4\n",
    "]\n",
    "\n",
    "# Plot the phases\n",
    "plot_phases(sweepX, sweepY, phase_times)"
   ]
  },
  {
   "cell_type": "code",
   "execution_count": 70,
   "id": "4649033e-b7e0-4e95-a44e-770138e5454e",
   "metadata": {},
   "outputs": [
    {
     "name": "stdout",
     "output_type": "stream",
     "text": [
      "Phase times and x,y saved to /Users/b/bio/cardiac/model1/phases.csv\n"
     ]
    }
   ],
   "source": [
    "# Define the CSV file path to save the phase times\n",
    "csv_file_path = \"/Users/b/bio/cardiac/model1/phases.csv\"\n",
    "\n",
    "#save to CSV\n",
    "save_to_csv(sweepX, sweepY, phase_times, csv_file_path, random_sweep_index)\n",
    "\n"
   ]
  },
  {
   "cell_type": "code",
   "execution_count": 579,
   "id": "5df375a4-7882-4c75-b27c-6cb853642d03",
   "metadata": {},
   "outputs": [],
   "source": [
    "# train the classifier"
   ]
  },
  {
   "cell_type": "code",
   "execution_count": null,
   "id": "398f3e08-6cd2-44b9-95a3-ef1cda5365cd",
   "metadata": {},
   "outputs": [],
   "source": [
    "# the classifier will read in a sweep and output the domain for each of the phases. \n",
    "# train a single classifier to output the phases"
   ]
  },
  {
   "cell_type": "code",
   "execution_count": 27,
   "id": "dcd6892e-9c3f-477a-8d79-c53c2f932ceb",
   "metadata": {
    "scrolled": true
   },
   "outputs": [
    {
     "name": "stdout",
     "output_type": "stream",
     "text": [
      "Collecting scikit-learn\n",
      "  Downloading scikit_learn-1.5.1-cp312-cp312-macosx_12_0_arm64.whl.metadata (12 kB)\n",
      "Requirement already satisfied: numpy>=1.19.5 in ./new_env/lib/python3.12/site-packages (from scikit-learn) (1.26.4)\n",
      "Collecting scipy>=1.6.0 (from scikit-learn)\n",
      "  Downloading scipy-1.14.0-cp312-cp312-macosx_14_0_arm64.whl.metadata (60 kB)\n",
      "\u001b[2K     \u001b[90m━━━━━━━━━━━━━━━━━━━━━━━━━━━━━━━━━━━━━━━\u001b[0m \u001b[32m60.8/60.8 kB\u001b[0m \u001b[31m802.1 kB/s\u001b[0m eta \u001b[36m0:00:00\u001b[0m \u001b[36m0:00:01\u001b[0m\n",
      "\u001b[?25hCollecting joblib>=1.2.0 (from scikit-learn)\n",
      "  Using cached joblib-1.4.2-py3-none-any.whl.metadata (5.4 kB)\n",
      "Collecting threadpoolctl>=3.1.0 (from scikit-learn)\n",
      "  Using cached threadpoolctl-3.5.0-py3-none-any.whl.metadata (13 kB)\n",
      "Downloading scikit_learn-1.5.1-cp312-cp312-macosx_12_0_arm64.whl (11.0 MB)\n",
      "\u001b[2K   \u001b[90m━━━━━━━━━━━━━━━━━━━━━━━━━━━━━━━━━━━━━━━━\u001b[0m \u001b[32m11.0/11.0 MB\u001b[0m \u001b[31m37.8 MB/s\u001b[0m eta \u001b[36m0:00:00\u001b[0m00:01\u001b[0m0:01\u001b[0m\n",
      "\u001b[?25hUsing cached joblib-1.4.2-py3-none-any.whl (301 kB)\n",
      "Downloading scipy-1.14.0-cp312-cp312-macosx_14_0_arm64.whl (23.1 MB)\n",
      "\u001b[2K   \u001b[90m━━━━━━━━━━━━━━━━━━━━━━━━━━━━━━━━━━━━━━━━\u001b[0m \u001b[32m23.1/23.1 MB\u001b[0m \u001b[31m48.9 MB/s\u001b[0m eta \u001b[36m0:00:00\u001b[0m00:01\u001b[0m00:01\u001b[0m\n",
      "\u001b[?25hUsing cached threadpoolctl-3.5.0-py3-none-any.whl (18 kB)\n",
      "Installing collected packages: threadpoolctl, scipy, joblib, scikit-learn\n",
      "Successfully installed joblib-1.4.2 scikit-learn-1.5.1 scipy-1.14.0 threadpoolctl-3.5.0\n",
      "\n",
      "\u001b[1m[\u001b[0m\u001b[34;49mnotice\u001b[0m\u001b[1;39;49m]\u001b[0m\u001b[39;49m A new release of pip is available: \u001b[0m\u001b[31;49m24.0\u001b[0m\u001b[39;49m -> \u001b[0m\u001b[32;49m24.2\u001b[0m\n",
      "\u001b[1m[\u001b[0m\u001b[34;49mnotice\u001b[0m\u001b[1;39;49m]\u001b[0m\u001b[39;49m To update, run: \u001b[0m\u001b[32;49mpip install --upgrade pip\u001b[0m\n"
     ]
    }
   ],
   "source": [
    "!pip install scikit-learn"
   ]
  },
  {
   "cell_type": "code",
   "execution_count": 1,
   "id": "0553d21f-8a58-44a2-a89f-1fd4ce31d63f",
   "metadata": {},
   "outputs": [],
   "source": [
    "import pandas as pd\n",
    "import numpy as np\n",
    "from sklearn.model_selection import train_test_split\n",
    "from sklearn.ensemble import RandomForestClassifier\n",
    "from sklearn.metrics import accuracy_score\n",
    "\n",
    "\n",
    "df = pd.read_csv('/Users/b/bio/cardiac/model1/phases.csv')\n"
   ]
  },
  {
   "cell_type": "code",
   "execution_count": 2,
   "id": "bcfea260-a507-4f12-8800-bbaa050672d2",
   "metadata": {},
   "outputs": [],
   "source": [
    "import ast\n",
    "\n",
    "def get_phase_data(df, index):\n",
    "    \"\"\"\n",
    "    Converts string representations of x and y values at a given index in the DataFrame\n",
    "    into a list of (x, y) tuples.\n",
    "\n",
    "    Parameters:\n",
    "    df (pd.DataFrame): The DataFrame containing the data.\n",
    "    index (int): The index of the data to extract.\n",
    "\n",
    "    Returns:\n",
    "    list: A list of (x, y) tuples.\n",
    "    \"\"\"\n",
    "    phase_x = ast.literal_eval(df['X Values'][index])\n",
    "    phase_y = ast.literal_eval(df['Y Values'][index])\n",
    "    phase_data = list(zip(phase_x, phase_y))\n",
    "    return phase_data"
   ]
  },
  {
   "cell_type": "code",
   "execution_count": 4,
   "id": "ec81fdce-6727-4086-9a5a-4a72ead29ece",
   "metadata": {},
   "outputs": [],
   "source": [
    "import pyabf\n",
    "\n",
    "dataset = {}\n",
    "\n",
    "# read file, sweep number, phase number\n",
    "index = 0\n",
    "file = df['File Path'][index]\n",
    "sweepNum = df['Sweep Number'][index]\n",
    "phaseNum = df['Phase'][index]\n",
    "abf = pyabf.ABF(file)\n",
    "abf.setSweep(sweepNum)\n",
    "\n",
    "# Extract sweepX and sweepY\n",
    "sweepX = abf.sweepX\n",
    "sweepY = abf.sweepY\n",
    "\n",
    "# Create a list of tuples (x, y)\n",
    "totalSweep = list(zip(sweepX, sweepY))\n",
    "\n",
    "phase0 = get_phase_data(df, index)\n",
    "phase1 = get_phase_data(df, index + 1)\n",
    "phase2 = get_phase_data(df, index + 2)\n",
    "phase3 = get_phase_data(df, index + 3)\n",
    "phase4 = get_phase_data(df, index + 4)\n",
    "\n",
    "dataset[str(totalSweep)] = [phase0[0], phase1[0], phase2[0], phase3[0], phase4[0], phase4[-1]]\n",
    "\n",
    "index+=5\n",
    "\n",
    "\n",
    "\n"
   ]
  },
  {
   "cell_type": "code",
   "execution_count": 5,
   "id": "acdd4311-6e60-4f55-9a60-71964e951252",
   "metadata": {},
   "outputs": [
    {
     "data": {
      "text/plain": [
       "[(0.025, -82.122802734375),\n",
       " (0.035, 54.01611328125),\n",
       " (0.1, 37.200927734375),\n",
       " (0.3, 9.613037109375),\n",
       " (0.45, -79.071044921875),\n",
       " (1.9999, -82.51953125)]"
      ]
     },
     "execution_count": 5,
     "metadata": {},
     "output_type": "execute_result"
    }
   ],
   "source": [
    "[phase0[0], phase1[0], phase2[0], phase3[0], phase4[0], phase4[-1]]"
   ]
  },
  {
   "cell_type": "code",
   "execution_count": 6,
   "id": "d8f9469c-3179-4afe-aea0-735237411360",
   "metadata": {},
   "outputs": [],
   "source": [
    "dataset = {}\n",
    "index = 0\n",
    "while index < len(df):\n",
    "    file = df['File Path'][index]\n",
    "    sweepNum = df['Sweep Number'][index]\n",
    "    phaseNum = df['Phase'][index]\n",
    "    abf = pyabf.ABF(file)\n",
    "    abf.setSweep(sweepNum)\n",
    "    \n",
    "    # Extract sweepX and sweepY\n",
    "    sweepX = abf.sweepX\n",
    "    sweepY = abf.sweepY\n",
    "    \n",
    "    # Create a list of tuples (x, y)\n",
    "    totalSweep = list(zip(sweepX, sweepY))\n",
    "    \n",
    "    phase0 = get_phase_data(df, index)\n",
    "    phase1 = get_phase_data(df, index + 1)\n",
    "    phase2 = get_phase_data(df, index + 2)\n",
    "    phase3 = get_phase_data(df, index + 3)\n",
    "    phase4 = get_phase_data(df, index + 4)\n",
    "    \n",
    "    dataset[str(totalSweep)] = [phase0[0], phase1[0], phase2[0], phase3[0], phase4[0], phase4[-1]]\n",
    "\n",
    "    \n",
    "    index+=5\n"
   ]
  },
  {
   "cell_type": "code",
   "execution_count": 7,
   "id": "25255d40-fb2c-48dd-9dca-faa8ff49f1ba",
   "metadata": {
    "scrolled": true
   },
   "outputs": [
    {
     "name": "stdout",
     "output_type": "stream",
     "text": [
      "25\n"
     ]
    }
   ],
   "source": [
    "print(len(dataset))"
   ]
  },
  {
   "cell_type": "code",
   "execution_count": 118,
   "id": "69562d17-6359-4715-929c-caa27fb6c48b",
   "metadata": {},
   "outputs": [],
   "source": [
    "##### build the seq2seq model"
   ]
  },
  {
   "cell_type": "code",
   "execution_count": 40,
   "id": "287915d9-cf95-4638-909d-11af7b0a0bba",
   "metadata": {},
   "outputs": [],
   "source": [
    "import random\n",
    "\n",
    "def split_dataset(dataset, train_ratio=0.8, val_ratio=0.1, test_ratio=0.1):\n",
    "    # Ensure the ratios add up to 1\n",
    "    assert train_ratio + val_ratio + test_ratio == 1.0, \"Ratios must sum to 1\"\n",
    "\n",
    "    # Convert the dataset dictionary to a list of keys\n",
    "    keys = list(dataset.keys())\n",
    "    random.shuffle(keys)\n",
    "\n",
    "    # Calculate the split indices\n",
    "    total_length = len(keys)\n",
    "    train_end = int(train_ratio * total_length)\n",
    "    val_end = train_end + int(val_ratio * total_length)\n",
    "\n",
    "    # Split the keys\n",
    "    train_keys = keys[:train_end]\n",
    "    val_keys = keys[train_end:val_end]\n",
    "    test_keys = keys[val_end:]\n",
    "\n",
    "    # Split the dataset\n",
    "    train_set = {key: dataset[key] for key in train_keys}\n",
    "    val_set = {key: dataset[key] for key in val_keys}\n",
    "    test_set = {key: dataset[key] for key in test_keys}\n",
    "\n",
    "    return train_set, val_set, test_set"
   ]
  },
  {
   "cell_type": "code",
   "execution_count": 54,
   "id": "8fdf62cc-bc2c-49ac-9858-11f69e463436",
   "metadata": {
    "scrolled": true
   },
   "outputs": [
    {
     "name": "stdout",
     "output_type": "stream",
     "text": [
      "20\n",
      "2\n",
      "3\n"
     ]
    }
   ],
   "source": [
    "# split dataset 80/10/10\n",
    "\n",
    "train_data, valid_data, test_data = split_dataset(dataset)\n",
    "print(len(train_data))\n",
    "print(len(valid_data))\n",
    "print(len(test_data))\n"
   ]
  },
  {
   "cell_type": "code",
   "execution_count": null,
   "id": "f9b928a4-5f80-42ae-8df8-3ca7e3e37792",
   "metadata": {},
   "outputs": [],
   "source": []
  },
  {
   "cell_type": "code",
   "execution_count": null,
   "id": "90e25eb5-0f1e-4109-ba00-10cebf155b46",
   "metadata": {},
   "outputs": [],
   "source": []
  },
  {
   "cell_type": "code",
   "execution_count": null,
   "id": "0b89e602-6883-4824-bd30-6f59c0d451a4",
   "metadata": {},
   "outputs": [],
   "source": []
  },
  {
   "cell_type": "code",
   "execution_count": 55,
   "id": "be4d9076-ef91-40f4-bd1c-9680f42518ac",
   "metadata": {},
   "outputs": [
    {
     "name": "stdout",
     "output_type": "stream",
     "text": [
      "['<sos>', '0.025', '-71.990966796875', '0.034', '45.135498046875', '0.060000000000000005', '15.93017578125', '0.16', '-15.68603515625', '0.25', '-70.709228515625', '1.9999', '-73.79150390625', '<eos>']\n"
     ]
    }
   ],
   "source": [
    "def tokenize_list_of_tuples(lst, sos_token, eos_token, max_length=None):\n",
    "    tokens = []\n",
    "    for item in lst:\n",
    "        # Convert each tuple into a string and split it into individual components\n",
    "        tokens.extend(map(str, item))\n",
    "    if max_length:\n",
    "        tokens = tokens[:max_length]\n",
    "    tokens = [sos_token] + tokens + [eos_token]\n",
    "    return tokens\n",
    "\n",
    "# Example usage\n",
    "data = [(0.025, -71.990966796875), (0.034, 45.135498046875), (0.060000000000000005, 15.93017578125), \n",
    "        (0.16, -15.68603515625), (0.25, -70.709228515625), (1.9999, -73.79150390625)]\n",
    "\n",
    "tokens = tokenize_list_of_tuples(data, sos_token, eos_token)\n",
    "print(tokens)"
   ]
  },
  {
   "cell_type": "code",
   "execution_count": 56,
   "id": "c915c120-336b-4b10-99e4-3cc0bf99af2b",
   "metadata": {},
   "outputs": [],
   "source": [
    "def token_map(en_de_dict, sos_token, eos_token, max_length=None):\n",
    "    result = []\n",
    "    for en, de in en_de_dict.items():\n",
    "        # Tokenize English and German sentences separately\n",
    "        en_tokens = tokenize_list_of_tuples([ast.literal_eval(en)], sos_token, eos_token)\n",
    "        de_tokens = tokenize_list_of_tuples([de], sos_token, eos_token)\n",
    "        \n",
    "        # Append the result to the list\n",
    "        result.append({\n",
    "            \"en\": de,\n",
    "            \"de\": en,\n",
    "            \"en_tokens\": de_tokens,\n",
    "            \"de_tokens\": en_tokens\n",
    "        })\n",
    "    return result"
   ]
  },
  {
   "cell_type": "code",
   "execution_count": 57,
   "id": "21622e56-76dd-4bfc-9f38-65d3653d73a2",
   "metadata": {},
   "outputs": [],
   "source": [
    "#max_length = 1_000\n",
    "sos_token = \"<sos>\"\n",
    "eos_token = \"<eos>\"\n",
    "\n",
    "train_data = token_map(train_data, sos_token, eos_token)\n",
    "valid_data = token_map(valid_data, sos_token, eos_token)\n",
    "test_data = token_map(test_data, sos_token, eos_token)"
   ]
  },
  {
   "cell_type": "code",
   "execution_count": 58,
   "id": "f873ae16-37cd-4997-b70f-3932dcc49af0",
   "metadata": {},
   "outputs": [],
   "source": [
    "from datasets import Dataset\n",
    "\n",
    "train_data = Dataset.from_list(train_data)\n",
    "valid_data = Dataset.from_list(valid_data)\n",
    "test_data = Dataset.from_list(test_data)"
   ]
  },
  {
   "cell_type": "code",
   "execution_count": 60,
   "id": "40663494-85fc-4e99-b8c9-4cea00bb9044",
   "metadata": {},
   "outputs": [
    {
     "data": {
      "text/plain": [
       "['<sos>',\n",
       " '(0.02, -73.79150390625)',\n",
       " '(0.035, 62.98828125)',\n",
       " '(0.1, 46.478271484375)',\n",
       " '(0.4, 14.7705078125)',\n",
       " '(0.5, -69.915771484375)',\n",
       " '(1.9999500000000001, -73.79150390625)',\n",
       " '<eos>']"
      ]
     },
     "execution_count": 60,
     "metadata": {},
     "output_type": "execute_result"
    }
   ],
   "source": [
    "train_data[0]['en_tokens']"
   ]
  },
  {
   "cell_type": "code",
   "execution_count": 50,
   "id": "2b7ed432-8d00-4f37-ab37-12e953645891",
   "metadata": {},
   "outputs": [],
   "source": []
  },
  {
   "cell_type": "code",
   "execution_count": 62,
   "id": "0e5ff922-5883-4e02-b0dc-037ee2806091",
   "metadata": {},
   "outputs": [],
   "source": [
    "from collections import Counter, defaultdict\n",
    "\n",
    "class Vocab:\n",
    "    def __init__(self, token_to_index, unk_token=\"<unk>\"):\n",
    "        self.token_to_index = token_to_index\n",
    "        self.index_to_token = {idx: token for token, idx in token_to_index.items()}\n",
    "        self.unk_token = unk_token\n",
    "        self.unk_index = token_to_index[unk_token]\n",
    "\n",
    "    def __len__(self):\n",
    "        return len(self.token_to_index)\n",
    "\n",
    "    def __getitem__(self, token):\n",
    "        return self.token_to_index.get(token, self.unk_index)\n",
    "\n",
    "    def token_to_idx(self, token):\n",
    "        return self.__getitem__(token)\n",
    "\n",
    "    def idx_to_token(self, idx):\n",
    "        return self.index_to_token.get(idx, self.unk_token)\n",
    "\n",
    "    def get_itos(self):\n",
    "        max_index = max(self.index_to_token.keys())\n",
    "        itos = [self.index_to_token.get(i, self.unk_token) for i in range(max_index)]\n",
    "        return itos\n",
    "\n",
    "    def get_stoi(self):\n",
    "        return self.token_to_index\n",
    "\n",
    "    def set_default_index(self, unk_index):\n",
    "        \"\"\"Sets the default index for unknown tokens.\"\"\"\n",
    "        self.unk_index = unk_index\n",
    "        # Ensure the unk_token is mapped to unk_index\n",
    "        self.token_to_index[self.unk_token] = self.unk_index\n",
    "        # Ensure the index_to_token mapping is consistent\n",
    "        self.index_to_token[self.unk_index] = self.unk_token\n",
    "\n",
    "    \n",
    "    def lookup_indices(self, tokens):\n",
    "        return [self.token_to_idx(token) for token in tokens]\n",
    "\n",
    "    def lookup_tokens(self, indices):\n",
    "        if torch.is_tensor(indices):\n",
    "            indices = indices.tolist()\n",
    "        return [self.idx_to_token(index) for index in indices]\n",
    "\n",
    "def build_vocab_from_iterator(iterator, min_freq=1, specials=None):\n",
    "    counter = Counter()\n",
    "    \n",
    "    for tokens in iterator:\n",
    "        counter.update(tokens)\n",
    "\n",
    "    token_to_index = {}\n",
    "    if specials:\n",
    "        for idx, token in enumerate(specials):\n",
    "            token_to_index[token] = idx\n",
    "\n",
    "    for token, freq in counter.items():\n",
    "        if freq >= min_freq and token not in token_to_index:\n",
    "            token_to_index[token] = len(token_to_index)\n",
    "\n",
    "    unk_token = specials[0] if specials else \"<unk>\"\n",
    "    if unk_token not in token_to_index:\n",
    "        token_to_index[unk_token] = len(token_to_index)\n",
    "\n",
    "    return Vocab(token_to_index, unk_token)\n",
    "    "
   ]
  },
  {
   "cell_type": "code",
   "execution_count": 63,
   "id": "4a9df8d6-3ff2-4eab-9aff-b8eb1df0fc30",
   "metadata": {},
   "outputs": [],
   "source": [
    "min_freq = 2\n",
    "unk_token = \"<unk>\"\n",
    "pad_token = \"<pad>\"\n",
    "\n",
    "special_tokens = [\n",
    "    unk_token,\n",
    "    pad_token,\n",
    "    sos_token,\n",
    "    eos_token,\n",
    "]\n",
    "\n",
    "en_vocab = build_vocab_from_iterator(\n",
    "    train_data[\"en_tokens\"],\n",
    "    min_freq=min_freq,\n",
    "    specials=special_tokens,\n",
    ")\n",
    "de_vocab = build_vocab_from_iterator(\n",
    "    train_data[\"de_tokens\"],\n",
    "    min_freq=min_freq,\n",
    "    specials=special_tokens,\n",
    ")\n"
   ]
  },
  {
   "cell_type": "code",
   "execution_count": 66,
   "id": "53f96c9f-dc7d-40a4-bb06-d4b174857f0b",
   "metadata": {},
   "outputs": [
    {
     "name": "stdout",
     "output_type": "stream",
     "text": [
      "0 1 2 3\n"
     ]
    }
   ],
   "source": [
    "assert en_vocab[unk_token] == de_vocab[unk_token]\n",
    "assert en_vocab[pad_token] == de_vocab[pad_token]\n",
    "\n",
    "unk_index = en_vocab[unk_token]\n",
    "pad_index = en_vocab[pad_token]\n",
    "sos_index = en_vocab[sos_token]\n",
    "eos_index = en_vocab[eos_token]\n",
    "print(unk_index, pad_index, sos_index, eos_index)"
   ]
  },
  {
   "cell_type": "code",
   "execution_count": 67,
   "id": "5c554533-ad18-472e-9ae2-24732ffb57d8",
   "metadata": {},
   "outputs": [],
   "source": [
    "en_vocab.set_default_index(unk_index)\n",
    "de_vocab.set_default_index(unk_index)"
   ]
  },
  {
   "cell_type": "code",
   "execution_count": 68,
   "id": "cacba279-c746-42a3-a4ff-cdf8ab99cc2d",
   "metadata": {},
   "outputs": [],
   "source": [
    "def numericalize_example(example, en_vocab, de_vocab):\n",
    "    en_ids = en_vocab.lookup_indices(example[\"en_tokens\"])\n",
    "    de_ids = de_vocab.lookup_indices(example[\"de_tokens\"])\n",
    "    return {\"en_ids\": en_ids, \"de_ids\": de_ids}"
   ]
  },
  {
   "cell_type": "code",
   "execution_count": 69,
   "id": "6c159ece-ce4c-40da-b172-62d6f340c4e5",
   "metadata": {},
   "outputs": [
    {
     "data": {
      "application/vnd.jupyter.widget-view+json": {
       "model_id": "c5dd102bbd8240c9a5adf74e7ca70bd5",
       "version_major": 2,
       "version_minor": 0
      },
      "text/plain": [
       "Map:   0%|          | 0/20 [00:00<?, ? examples/s]"
      ]
     },
     "metadata": {},
     "output_type": "display_data"
    },
    {
     "data": {
      "application/vnd.jupyter.widget-view+json": {
       "model_id": "164c98c0792a4e4fb4a8a9f925c24684",
       "version_major": 2,
       "version_minor": 0
      },
      "text/plain": [
       "Map:   0%|          | 0/2 [00:00<?, ? examples/s]"
      ]
     },
     "metadata": {},
     "output_type": "display_data"
    },
    {
     "data": {
      "application/vnd.jupyter.widget-view+json": {
       "model_id": "e2155f0c5c054431a6352ef014fc5902",
       "version_major": 2,
       "version_minor": 0
      },
      "text/plain": [
       "Map:   0%|          | 0/3 [00:00<?, ? examples/s]"
      ]
     },
     "metadata": {},
     "output_type": "display_data"
    }
   ],
   "source": [
    "fn_kwargs = {\"en_vocab\": en_vocab, \"de_vocab\": de_vocab}\n",
    "\n",
    "train_data = train_data.map(numericalize_example, fn_kwargs=fn_kwargs)\n",
    "valid_data = valid_data.map(numericalize_example, fn_kwargs=fn_kwargs)\n",
    "test_data = test_data.map(numericalize_example, fn_kwargs=fn_kwargs)"
   ]
  },
  {
   "cell_type": "code",
   "execution_count": 70,
   "id": "52d002a8-a92d-4607-97d4-f85c797fcb9b",
   "metadata": {},
   "outputs": [],
   "source": [
    "data_type = \"torch\"\n",
    "format_columns = [\"en_ids\", \"de_ids\"]\n",
    "\n",
    "train_data = train_data.with_format(\n",
    "    type=data_type, columns=format_columns, output_all_columns=True\n",
    ")\n",
    "\n",
    "valid_data = valid_data.with_format(\n",
    "    type = data_type,\n",
    "    columns=format_columns,\n",
    "    output_all_columns = True,\n",
    ")\n",
    "\n",
    "test_data = test_data.with_format(\n",
    "    type=data_type,\n",
    "    columns=format_columns,\n",
    "    output_all_columns=True,\n",
    ")"
   ]
  },
  {
   "cell_type": "code",
   "execution_count": 71,
   "id": "3a96f811-9d18-48ea-b7bd-2485d6ad42ba",
   "metadata": {},
   "outputs": [],
   "source": [
    "def get_collate_fn(pad_index):\n",
    "    def collate_fn(batch):\n",
    "        batch_en_ids = [example[\"en_ids\"] for example in batch]\n",
    "        batch_de_ids = [example[\"de_ids\"] for example in batch]\n",
    "        batch_en_ids = nn.utils.rnn.pad_sequence(batch_en_ids, padding_value=pad_index)\n",
    "        batch_de_ids = nn.utils.rnn.pad_sequence(batch_de_ids, padding_value=pad_index)\n",
    "        batch = {\n",
    "            \"en_ids\": batch_en_ids,\n",
    "            \"de_ids\": batch_de_ids,\n",
    "        }\n",
    "        \n",
    "        return batch\n",
    "        \n",
    "    return collate_fn"
   ]
  },
  {
   "cell_type": "code",
   "execution_count": 72,
   "id": "9c65bfae-9a34-4e12-af09-edf8f23b4161",
   "metadata": {},
   "outputs": [],
   "source": [
    "def get_data_loader(dataset, batch_size, pad_index, shuffle=False):\n",
    "    collate_fn = get_collate_fn(pad_index)\n",
    "    data_loader = torch.utils.data.DataLoader(\n",
    "        dataset=dataset,\n",
    "        batch_size=batch_size,\n",
    "        collate_fn=collate_fn,\n",
    "        shuffle=shuffle,\n",
    "    )\n",
    "\n",
    "    return data_loader\n",
    "    "
   ]
  },
  {
   "cell_type": "code",
   "execution_count": 74,
   "id": "33255eaa-f753-4a4e-933c-97f288fd4367",
   "metadata": {},
   "outputs": [],
   "source": [
    "import torch\n",
    "\n",
    "batch_size = 1\n",
    "\n",
    "train_data_loader = get_data_loader(train_data, batch_size, pad_index)\n",
    "valid_data_loader = get_data_loader(valid_data, batch_size, pad_index)\n",
    "test_data_loader = get_data_loader(test_data, batch_size, pad_index)\n"
   ]
  },
  {
   "cell_type": "code",
   "execution_count": 76,
   "id": "8e01c6d8-c288-4100-8025-646d15f40e1e",
   "metadata": {},
   "outputs": [],
   "source": [
    "import torch.nn as nn\n",
    "\n",
    "class Encoder(nn.Module):\n",
    "    def __init__(self, input_dim, embedding_dim, hidden_dim, dropout):\n",
    "        super().__init__()\n",
    "        self.hidden_dim = hidden_dim\n",
    "        self.embedding = nn.Embedding(input_dim, embedding_dim)\n",
    "        self.rnn = nn.GRU(embedding_dim, hidden_dim)\n",
    "        self.dropout = nn.Dropout(dropout)\n",
    "\n",
    "    def forward(self, src):\n",
    "        # src = [src length, batch size, embedding dim]\n",
    "        embedded = self.dropout(self.embedding(src))\n",
    "        # embedded = [src length, batch size, embedding dim]\n",
    "        outputs, hidden = self.rnn(embedded)  # no cell state in GRU!\n",
    "        # outputs = [src length, batch size, hidden dim * n directions]\n",
    "        # hidden = [n layers * n directions, batch_size, hidden dim]\n",
    "        # outputs are always from the top hidden layer\n",
    "        return hidden"
   ]
  },
  {
   "cell_type": "code",
   "execution_count": 77,
   "id": "c695b90f-e0a6-4eaf-9208-1e02d7d5e2a1",
   "metadata": {},
   "outputs": [],
   "source": [
    "class Decoder(nn.Module):\n",
    "    def __init__(self, output_dim, embedding_dim, hidden_dim, dropout):\n",
    "        super().__init__()\n",
    "        self.hidden_dim = hidden_dim\n",
    "        self.output_dim = output_dim\n",
    "        self.embedding = nn.Embedding(output_dim, embedding_dim)\n",
    "        self.rnn = nn.GRU(embedding_dim + hidden_dim, hidden_dim)\n",
    "        self.fc_out = nn.Linear(embedding_dim + hidden_dim * 2, output_dim)\n",
    "        self.dropout = nn.Dropout(dropout)\n",
    "\n",
    "    def forward(self, input, hidden, context):\n",
    "        # input = [batch size]\n",
    "        # hidden = [n layers * n directions, batch size, hidden dim]\n",
    "        # context = [n layers * n directions, batch size, hidden dim]\n",
    "        # n layers and n directions in the decoder will both always be 1, therefore:\n",
    "        # hidden = [1, batch size, hidden dim]\n",
    "        # context = [1, batch size, hidden dim]\n",
    "        input = input.unsqueeze(0)\n",
    "        # input = [1, batch size]\n",
    "        embedded = self.dropout(self.embedding(input))\n",
    "        # embedded [1, batch size, embedding dim]\n",
    "        emb_con = torch.cat((embedded, context), dim=2)\n",
    "        # emb_con = [1, batch_size, embeddign dim + hidden dim]\n",
    "        output, hidden = self.rnn(emb_con, hidden)\n",
    "        # output = [seq len, batch size, hidden dim * n directions]\n",
    "        # hidden = [n layers * n directions, batch size, hidden dim]\n",
    "        # seq len, n layers and n directions will always be 1 in this decoder, therefore:\n",
    "        # output = [1, batch_size, hidden dim]\n",
    "        # hidden = [1, batch size, hidden dim]\n",
    "        output = torch.cat(\n",
    "            (embedded.squeeze(0), hidden.squeeze(0), context.squeeze(0)), dim=1\n",
    "        )\n",
    "        # output = [batch size, embedding + hidden dim * 2]\n",
    "        prediction = self.fc_out(output)\n",
    "        # prediction = [batch size, output dim]\n",
    "        return prediction, hidden\n"
   ]
  },
  {
   "cell_type": "code",
   "execution_count": 78,
   "id": "e8cbca7c-2289-46c6-a000-f1db7df16abf",
   "metadata": {},
   "outputs": [],
   "source": [
    "class Seq2Seq(nn.Module):\n",
    "    def __init__(self, encoder, decoder, device):\n",
    "        super().__init__()\n",
    "        self.encoder = encoder\n",
    "        self.decoder = decoder\n",
    "        self.device = device\n",
    "        assert (\n",
    "            encoder.hidden_dim == decoder.hidden_dim\n",
    "        ), \"hidden dimensions of encoder and decoder must be equal!\"\n",
    "\n",
    "    def forward(self, src, trg, teacher_forcing_ratio):\n",
    "        # src = [src length, batch size]\n",
    "        # trg = [trg length, batch size]\n",
    "        # teacher_forcing ratio is probability to use teacher forcing\n",
    "        # e.g. if teacher_forcing_ratio is 0.75 we use ground-truth inputs 75% of the time\n",
    "        batch_size = trg.shape[1]\n",
    "        trg_length = trg.shape[0]\n",
    "        trg_vocab_size = self.decoder.output_dim\n",
    "        # tensor to store decoder outputs\n",
    "        outputs = torch.zeros(trg_length, batch_size, trg_vocab_size).to(self.device)\n",
    "        # last hidden state of the encoder is the context\n",
    "        context = self.encoder(src)\n",
    "        # context = [n layers * n directions, batch_size, hidden dim]\n",
    "        # context also used as the initial hidden state of the decoder\n",
    "        hidden = context\n",
    "        # hidden = [n layers * n directions, batch size, hidden dim]\n",
    "        # first input to the decoder is the <sos> tokens\n",
    "        input = trg[0, :]\n",
    "        for t in range(1, trg_length):\n",
    "            # insert input token embedding, previous hidden state and \n",
    "            # recieve output tensor (predictions) and new hidden_states\n",
    "            output, hidden = self.decoder(input, hidden, context)\n",
    "            # output = [batch_size, output dim]\n",
    "            # hidden = [1, batch size, hidden dim]\n",
    "            # place predictions in a tensor holding predictions for \n",
    "            outputs[t] = output\n",
    "            # decide if we are going to use teacher forcing or not\n",
    "            teacher_force = random.random() < teacher_forcing_ratio\n",
    "            # get the highest prediction token from our predictions\n",
    "            top1 = output.argmax(1)\n",
    "            input = trg[t] if teacher_force else top1\n",
    "            # input = [batch_size]\n",
    "        return outputs\n",
    "        "
   ]
  },
  {
   "cell_type": "code",
   "execution_count": 79,
   "id": "9606e870-8685-4c05-9a3d-153517a27e74",
   "metadata": {},
   "outputs": [],
   "source": [
    "input_dim = len(de_vocab)\n",
    "output_dim = len(en_vocab)\n",
    "encoder_embedding_dim = 256\n",
    "decoder_embedding_dim = 256\n",
    "hidden_dim = 512\n",
    "encoder_dropout = 0.5\n",
    "decoder_dropout = 0.5\n",
    "device = torch.device(\"cuda\" if torch.cuda.is_available() else \"cpu\")\n",
    "\n",
    "encoder = Encoder(\n",
    "    input_dim,\n",
    "    encoder_embedding_dim,\n",
    "    hidden_dim,\n",
    "    encoder_dropout,\n",
    ")\n",
    "\n",
    "decoder = Decoder(\n",
    "    output_dim,\n",
    "    decoder_embedding_dim,\n",
    "    hidden_dim,\n",
    "    decoder_dropout,\n",
    ")\n",
    "\n",
    "model = Seq2Seq(encoder, decoder, device).to(device)"
   ]
  },
  {
   "cell_type": "code",
   "execution_count": 80,
   "id": "0734988d-4a6b-4284-9038-c7763a4de68f",
   "metadata": {},
   "outputs": [
    {
     "data": {
      "text/plain": [
       "Seq2Seq(\n",
       "  (encoder): Encoder(\n",
       "    (embedding): Embedding(9406, 256)\n",
       "    (rnn): GRU(256, 512)\n",
       "    (dropout): Dropout(p=0.5, inplace=False)\n",
       "  )\n",
       "  (decoder): Decoder(\n",
       "    (embedding): Embedding(5, 256)\n",
       "    (rnn): GRU(768, 512)\n",
       "    (fc_out): Linear(in_features=1280, out_features=5, bias=True)\n",
       "    (dropout): Dropout(p=0.5, inplace=False)\n",
       "  )\n",
       ")"
      ]
     },
     "execution_count": 80,
     "metadata": {},
     "output_type": "execute_result"
    }
   ],
   "source": [
    "def init_weights(m):\n",
    "    for name, param in m.named_parameters():\n",
    "        nn.init.normal_(param.data, mean=0, std=0.01)\n",
    "\n",
    "model.apply(init_weights)"
   ]
  },
  {
   "cell_type": "code",
   "execution_count": 82,
   "id": "5c01982c-6dd1-4284-b23e-a8535ab03f73",
   "metadata": {},
   "outputs": [
    {
     "name": "stdout",
     "output_type": "stream",
     "text": [
      "the model has 5,567,493 trainable parameters.\n"
     ]
    }
   ],
   "source": [
    "def count_parameters(model):\n",
    "    return sum(p.numel() for p in model.parameters() if p.requires_grad)\n",
    "\n",
    "print(f\"the model has {count_parameters(model):,} trainable parameters.\")"
   ]
  },
  {
   "cell_type": "code",
   "execution_count": 84,
   "id": "829eab84-9775-4d68-95e5-58b71e02764b",
   "metadata": {},
   "outputs": [],
   "source": [
    "import torch.optim as optim\n",
    "\n",
    "optimizer = optim.Adam(model.parameters())"
   ]
  },
  {
   "cell_type": "code",
   "execution_count": 85,
   "id": "2fd1d3dc-69d7-4d6e-a347-eefda2131e6f",
   "metadata": {},
   "outputs": [],
   "source": [
    "criterion = nn.CrossEntropyLoss(ignore_index=pad_index)"
   ]
  },
  {
   "cell_type": "code",
   "execution_count": 86,
   "id": "1b156f25-edea-4a49-944e-10fca9ddf3a1",
   "metadata": {},
   "outputs": [],
   "source": [
    "def train_fn(\n",
    "    model, data_loader, optimizer, criterion, clip, teacher_forcing_ratio, device\n",
    "):\n",
    "    model.train()\n",
    "    epoch_loss = 0\n",
    "    for i, batch, in enumerate(data_loader):\n",
    "        src = batch[\"de_ids\"].to(device)\n",
    "        trg = batch[\"en_ids\"].to(device)\n",
    "        # src = [src length, batch size]\n",
    "        # trg = [trg length, batch size]\n",
    "        optimizer.zero_grad()\n",
    "        output = model(src, trg, teacher_forcing_ratio)\n",
    "        # output = [trg legnth, batch size, trg vocab size]\n",
    "        output_dim = output.shape[-1]\n",
    "        output = output[1:].view(-1, output_dim)\n",
    "        # output = [(trg length - 1) * batch_size, trg vocab size]\n",
    "        trg = trg[1:].view(-1)\n",
    "        # trg = [(trg length - 1) * batch_size]\n",
    "        loss = criterion(output, trg)\n",
    "        loss.backward()\n",
    "        torch.nn.utils.clip_grad_norm_(model.parameters(), clip)\n",
    "        optimizer.step()\n",
    "        epoch_loss += loss.item()\n",
    "\n",
    "    return epoch_loss / len(data_loader)\n",
    "        "
   ]
  },
  {
   "cell_type": "code",
   "execution_count": 87,
   "id": "fba5f148-de8e-4756-b3bb-2b0074f6a4b5",
   "metadata": {},
   "outputs": [],
   "source": [
    "def evaluate_fn(model, data_loader, criterion, device):\n",
    "    model.eval()\n",
    "    epoch_loss = 0\n",
    "    with torch.no_grad():\n",
    "        for i, batch in enumerate(data_loader):\n",
    "            src = batch[\"de_ids\"].to(device)\n",
    "            trg = batch[\"en_ids\"].to(device)\n",
    "            # src = [src length, batch size]\n",
    "            # trg = [trg length, batch size]\n",
    "            output = model(src, trg, 0) # turn off teacher forcing\n",
    "            # output = [trg length, batch size, trg vocab size]\n",
    "            output_dim = output.shape[-1]\n",
    "            output = output[1:].view(-1, output_dim)\n",
    "            # output = [(trg length - 1) * batch size, trg vocab size]\n",
    "            trg = trg[1:].view(-1)\n",
    "            # trg = [(trg length - 1) * batch size]\n",
    "            loss = criterion(output, trg)\n",
    "            epoch_loss += loss.item()\n",
    "    return epoch_loss / len(data_loader)"
   ]
  },
  {
   "cell_type": "code",
   "execution_count": 89,
   "id": "8eaf2a9a-b7ff-44e5-a2f2-980b6c4a1af0",
   "metadata": {},
   "outputs": [
    {
     "name": "stderr",
     "output_type": "stream",
     "text": [
      " 10%|████▎                                      | 1/10 [03:52<34:48, 232.09s/it]"
     ]
    },
    {
     "name": "stdout",
     "output_type": "stream",
     "text": [
      "\tTrain Loss:   1.072 | Train PPL:   2.921\n",
      "\tValid Loss:   0.400 | Valid PPL:   1.492\n"
     ]
    },
    {
     "name": "stderr",
     "output_type": "stream",
     "text": [
      " 20%|████████▌                                  | 2/10 [07:42<30:50, 231.33s/it]"
     ]
    },
    {
     "name": "stdout",
     "output_type": "stream",
     "text": [
      "\tTrain Loss:   0.385 | Train PPL:   1.469\n",
      "\tValid Loss:   0.145 | Valid PPL:   1.156\n"
     ]
    },
    {
     "name": "stderr",
     "output_type": "stream",
     "text": [
      " 30%|████████████▉                              | 3/10 [11:31<26:50, 230.07s/it]"
     ]
    },
    {
     "name": "stdout",
     "output_type": "stream",
     "text": [
      "\tTrain Loss:   0.416 | Train PPL:   1.515\n",
      "\tValid Loss:   0.298 | Valid PPL:   1.347\n"
     ]
    },
    {
     "name": "stderr",
     "output_type": "stream",
     "text": [
      " 40%|█████████████████▏                         | 4/10 [15:23<23:04, 230.79s/it]"
     ]
    },
    {
     "name": "stdout",
     "output_type": "stream",
     "text": [
      "\tTrain Loss:   0.255 | Train PPL:   1.290\n",
      "\tValid Loss:   0.093 | Valid PPL:   1.097\n"
     ]
    },
    {
     "name": "stderr",
     "output_type": "stream",
     "text": [
      " 50%|█████████████████████▌                     | 5/10 [21:07<22:38, 271.69s/it]"
     ]
    },
    {
     "name": "stdout",
     "output_type": "stream",
     "text": [
      "\tTrain Loss:   0.128 | Train PPL:   1.137\n",
      "\tValid Loss:   0.041 | Valid PPL:   1.042\n"
     ]
    },
    {
     "name": "stderr",
     "output_type": "stream",
     "text": [
      " 60%|█████████████████████████▊                 | 6/10 [24:58<17:11, 257.81s/it]"
     ]
    },
    {
     "name": "stdout",
     "output_type": "stream",
     "text": [
      "\tTrain Loss:   0.095 | Train PPL:   1.100\n",
      "\tValid Loss:   0.036 | Valid PPL:   1.036\n"
     ]
    },
    {
     "name": "stderr",
     "output_type": "stream",
     "text": [
      " 70%|██████████████████████████████             | 7/10 [28:39<12:17, 245.79s/it]"
     ]
    },
    {
     "name": "stdout",
     "output_type": "stream",
     "text": [
      "\tTrain Loss:   0.088 | Train PPL:   1.092\n",
      "\tValid Loss:   0.067 | Valid PPL:   1.069\n"
     ]
    },
    {
     "name": "stderr",
     "output_type": "stream",
     "text": [
      " 80%|██████████████████████████████████▍        | 8/10 [35:21<09:51, 295.68s/it]"
     ]
    },
    {
     "name": "stdout",
     "output_type": "stream",
     "text": [
      "\tTrain Loss:   0.082 | Train PPL:   1.086\n",
      "\tValid Loss:   0.006 | Valid PPL:   1.006\n"
     ]
    },
    {
     "name": "stderr",
     "output_type": "stream",
     "text": [
      " 90%|████████████████████████████████████    | 9/10 [1:17:53<16:41, 1001.00s/it]"
     ]
    },
    {
     "name": "stdout",
     "output_type": "stream",
     "text": [
      "\tTrain Loss:   0.074 | Train PPL:   1.076\n",
      "\tValid Loss:   0.004 | Valid PPL:   1.004\n"
     ]
    },
    {
     "name": "stderr",
     "output_type": "stream",
     "text": [
      "100%|████████████████████████████████████████| 10/10 [1:21:43<00:00, 490.38s/it]"
     ]
    },
    {
     "name": "stdout",
     "output_type": "stream",
     "text": [
      "\tTrain Loss:   0.072 | Train PPL:   1.074\n",
      "\tValid Loss:   0.004 | Valid PPL:   1.004\n"
     ]
    },
    {
     "name": "stderr",
     "output_type": "stream",
     "text": [
      "\n"
     ]
    }
   ],
   "source": [
    "import tqdm\n",
    "\n",
    "n_epochs = 10\n",
    "clip = 1.0\n",
    "teacher_forcing_ratio = 0.5\n",
    "\n",
    "best_valid_loss = float(\"inf\")\n",
    "\n",
    "for epoch in tqdm.tqdm(range(n_epochs)):\n",
    "    train_loss = train_fn(\n",
    "        model,\n",
    "        train_data_loader,\n",
    "        optimizer,\n",
    "        criterion,\n",
    "        clip,\n",
    "        teacher_forcing_ratio,\n",
    "        device,\n",
    "    )\n",
    "    valid_loss = evaluate_fn(\n",
    "        model,\n",
    "        valid_data_loader,\n",
    "        criterion,\n",
    "        device,\n",
    "    )\n",
    "    if valid_loss < best_valid_loss:\n",
    "        best_valid_loss = valid_loss\n",
    "        torch.save(model.state_dict(), \"tut2-model.pt\")\n",
    "\n",
    "    print(f\"\\tTrain Loss: {train_loss:7.3f} | Train PPL: {np.exp(train_loss):7.3f}\")\n",
    "    print(f\"\\tValid Loss: {valid_loss:7.3f} | Valid PPL: {np.exp(valid_loss):7.3f}\")"
   ]
  },
  {
   "cell_type": "code",
   "execution_count": 90,
   "id": "4c2d452f-a9e3-49a2-892d-4dd18e54c8cd",
   "metadata": {},
   "outputs": [
    {
     "name": "stderr",
     "output_type": "stream",
     "text": [
      "/var/folders/p3/rmn1ccsx70g1x47kqmcl76dm0000gn/T/ipykernel_18775/3627709372.py:1: FutureWarning: You are using `torch.load` with `weights_only=False` (the current default value), which uses the default pickle module implicitly. It is possible to construct malicious pickle data which will execute arbitrary code during unpickling (See https://github.com/pytorch/pytorch/blob/main/SECURITY.md#untrusted-models for more details). In a future release, the default value for `weights_only` will be flipped to `True`. This limits the functions that could be executed during unpickling. Arbitrary objects will no longer be allowed to be loaded via this mode unless they are explicitly allowlisted by the user via `torch.serialization.add_safe_globals`. We recommend you start setting `weights_only=True` for any use case where you don't have full control of the loaded file. Please open an issue on GitHub for any issues related to this experimental feature.\n",
      "  model.load_state_dict(torch.load(\"tut2-model.pt\"))\n"
     ]
    },
    {
     "name": "stdout",
     "output_type": "stream",
     "text": [
      "| Test Loss: 0.004 | Test PPL:   1.004 |\n"
     ]
    }
   ],
   "source": [
    "model.load_state_dict(torch.load(\"tut2-model.pt\"))\n",
    "\n",
    "test_loss = evaluate_fn(model, test_data_loader, criterion, device)\n",
    "\n",
    "print(f\"| Test Loss: {test_loss:.3f} | Test PPL: {np.exp(test_loss):7.3f} |\")\n"
   ]
  },
  {
   "cell_type": "code",
   "execution_count": 97,
   "id": "0022c5e2-0ead-49e6-857d-1330811b3f45",
   "metadata": {},
   "outputs": [],
   "source": [
    "def translate_sentence(\n",
    "    sentence,\n",
    "    model,\n",
    "    en_vocab,\n",
    "    de_vocab,\n",
    "    sos_token,\n",
    "    eos_token,\n",
    "    device,\n",
    "    max_output_length=25,\n",
    "):\n",
    "    model.eval()\n",
    "    with torch.no_grad():\n",
    "        tokens = tokenize_list_of_tuples([sentence], sos_token, eos_token)\n",
    "        #tokens = [sos_token] + tokens + [eos_token]\n",
    "        ids = de_vocab.lookup_indices(tokens)\n",
    "        tensor = torch.LongTensor(ids).unsqueeze(-1).to(device)\n",
    "        context = model.encoder(tensor)\n",
    "        hidden = context\n",
    "        inputs = en_vocab.lookup_indices([sos_token])\n",
    "        for _ in range(max_output_length):\n",
    "            inputs_tensor = torch.LongTensor([inputs[-1]]).to(device)\n",
    "            output, hidden = model.decoder(inputs_tensor, hidden, context)\n",
    "            predicted_token = output.argmax(-1).item()\n",
    "            inputs.append(predicted_token)\n",
    "            if predicted_token == en_vocab[eos_token]:\n",
    "                break\n",
    "        tokens = en_vocab.lookup_tokens(inputs)\n",
    "    return tokens"
   ]
  },
  {
   "cell_type": "code",
   "execution_count": 98,
   "id": "248e60e3-d20b-4f76-ba69-8dc0bcdd4b66",
   "metadata": {
    "scrolled": true
   },
   "outputs": [
    {
     "data": {
      "text/plain": [
       "[[0.025, -82.122802734375],\n",
       " [0.035, 54.01611328125],\n",
       " [0.1, 37.200927734375],\n",
       " [0.3, 9.613037109375],\n",
       " [0.45, -79.071044921875],\n",
       " [1.9999, -82.51953125]]"
      ]
     },
     "execution_count": 98,
     "metadata": {},
     "output_type": "execute_result"
    }
   ],
   "source": [
    "sentence = test_data[0][\"de\"]\n",
    "expected_translation = test_data[0][\"en\"]\n",
    "\n",
    "expected_translation"
   ]
  },
  {
   "cell_type": "code",
   "execution_count": 99,
   "id": "578bd1ef-e59e-4970-811e-988770614190",
   "metadata": {},
   "outputs": [],
   "source": [
    "translation = translate_sentence(\n",
    "    sentence,\n",
    "    model,\n",
    "    en_vocab,\n",
    "    de_vocab,\n",
    "    sos_token,\n",
    "    eos_token,\n",
    "    device,\n",
    ")"
   ]
  },
  {
   "cell_type": "code",
   "execution_count": 100,
   "id": "ffdfd138-455a-4184-8d47-429d8bac0e8a",
   "metadata": {},
   "outputs": [
    {
     "data": {
      "text/plain": [
       "['<sos>', '<unk>', '<unk>', '<unk>', '<unk>', '<unk>', '<unk>', '<eos>']"
      ]
     },
     "execution_count": 100,
     "metadata": {},
     "output_type": "execute_result"
    }
   ],
   "source": [
    "translation"
   ]
  },
  {
   "cell_type": "code",
   "execution_count": 101,
   "id": "148723be-6e38-4510-ac0c-b0cea42a7f20",
   "metadata": {},
   "outputs": [],
   "source": []
  }
 ],
 "metadata": {
  "kernelspec": {
   "display_name": "Python (myenv)",
   "language": "python",
   "name": "myenv"
  },
  "language_info": {
   "codemirror_mode": {
    "name": "ipython",
    "version": 3
   },
   "file_extension": ".py",
   "mimetype": "text/x-python",
   "name": "python",
   "nbconvert_exporter": "python",
   "pygments_lexer": "ipython3",
   "version": "3.12.2"
  }
 },
 "nbformat": 4,
 "nbformat_minor": 5
}
