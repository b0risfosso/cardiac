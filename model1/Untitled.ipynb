{
 "cells": [
  {
   "cell_type": "code",
   "execution_count": 1,
   "id": "3e00f918-032b-4724-bc4d-5e11173b142a",
   "metadata": {},
   "outputs": [],
   "source": [
    "# classify phase 0, 1, 2, 3, 4 at cardiac action potentials"
   ]
  },
  {
   "cell_type": "code",
   "execution_count": 6,
   "id": "a27bd91c-03e4-4e83-a1df-0a94e6ab0485",
   "metadata": {
    "scrolled": true
   },
   "outputs": [
    {
     "name": "stdout",
     "output_type": "stream",
     "text": [
      "Collecting wfdb\n",
      "  Using cached wfdb-4.1.2-py3-none-any.whl.metadata (4.3 kB)\n",
      "Collecting SoundFile>=0.10.0 (from wfdb)\n",
      "  Using cached soundfile-0.12.1-py2.py3-none-macosx_11_0_arm64.whl.metadata (14 kB)\n",
      "Requirement already satisfied: matplotlib>=3.2.2 in /opt/homebrew/lib/python3.11/site-packages (from wfdb) (3.8.0)\n",
      "Requirement already satisfied: numpy>=1.10.1 in /opt/homebrew/lib/python3.11/site-packages (from wfdb) (1.26.0)\n",
      "Requirement already satisfied: pandas>=1.3.0 in /opt/homebrew/lib/python3.11/site-packages (from wfdb) (2.1.1)\n",
      "Requirement already satisfied: requests>=2.8.1 in /opt/homebrew/lib/python3.11/site-packages (from wfdb) (2.31.0)\n",
      "Requirement already satisfied: scipy>=1.0.0 in /opt/homebrew/lib/python3.11/site-packages (from wfdb) (1.11.3)\n",
      "Requirement already satisfied: contourpy>=1.0.1 in /opt/homebrew/lib/python3.11/site-packages (from matplotlib>=3.2.2->wfdb) (1.1.1)\n",
      "Requirement already satisfied: cycler>=0.10 in /opt/homebrew/lib/python3.11/site-packages (from matplotlib>=3.2.2->wfdb) (0.12.1)\n",
      "Requirement already satisfied: fonttools>=4.22.0 in /opt/homebrew/lib/python3.11/site-packages (from matplotlib>=3.2.2->wfdb) (4.43.1)\n",
      "Requirement already satisfied: kiwisolver>=1.0.1 in /opt/homebrew/lib/python3.11/site-packages (from matplotlib>=3.2.2->wfdb) (1.4.5)\n",
      "Requirement already satisfied: packaging>=20.0 in /opt/homebrew/lib/python3.11/site-packages (from matplotlib>=3.2.2->wfdb) (23.2)\n",
      "Requirement already satisfied: pillow>=6.2.0 in /opt/homebrew/lib/python3.11/site-packages (from matplotlib>=3.2.2->wfdb) (10.0.1)\n",
      "Requirement already satisfied: pyparsing>=2.3.1 in /opt/homebrew/lib/python3.11/site-packages (from matplotlib>=3.2.2->wfdb) (3.1.1)\n",
      "Requirement already satisfied: python-dateutil>=2.7 in /opt/homebrew/lib/python3.11/site-packages (from matplotlib>=3.2.2->wfdb) (2.8.2)\n",
      "Requirement already satisfied: pytz>=2020.1 in /opt/homebrew/lib/python3.11/site-packages (from pandas>=1.3.0->wfdb) (2023.3.post1)\n",
      "Requirement already satisfied: tzdata>=2022.1 in /opt/homebrew/lib/python3.11/site-packages (from pandas>=1.3.0->wfdb) (2023.3)\n",
      "Requirement already satisfied: charset-normalizer<4,>=2 in /opt/homebrew/lib/python3.11/site-packages (from requests>=2.8.1->wfdb) (3.3.0)\n",
      "Requirement already satisfied: idna<4,>=2.5 in /opt/homebrew/lib/python3.11/site-packages (from requests>=2.8.1->wfdb) (3.4)\n",
      "Requirement already satisfied: urllib3<3,>=1.21.1 in /opt/homebrew/lib/python3.11/site-packages (from requests>=2.8.1->wfdb) (2.0.5)\n",
      "Requirement already satisfied: certifi>=2017.4.17 in /opt/homebrew/lib/python3.11/site-packages (from requests>=2.8.1->wfdb) (2023.7.22)\n",
      "Requirement already satisfied: cffi>=1.0 in /opt/homebrew/lib/python3.11/site-packages (from SoundFile>=0.10.0->wfdb) (1.15.1)\n",
      "Requirement already satisfied: pycparser in /opt/homebrew/lib/python3.11/site-packages (from cffi>=1.0->SoundFile>=0.10.0->wfdb) (2.21)\n",
      "Requirement already satisfied: six>=1.5 in /opt/homebrew/lib/python3.11/site-packages (from python-dateutil>=2.7->matplotlib>=3.2.2->wfdb) (1.16.0)\n",
      "Using cached wfdb-4.1.2-py3-none-any.whl (159 kB)\n",
      "Using cached soundfile-0.12.1-py2.py3-none-macosx_11_0_arm64.whl (1.1 MB)\n",
      "Installing collected packages: SoundFile, wfdb\n",
      "Successfully installed SoundFile-0.12.1 wfdb-4.1.2\n"
     ]
    },
    {
     "name": "stderr",
     "output_type": "stream",
     "text": [
      "\n",
      "\u001b[1m[\u001b[0m\u001b[34;49mnotice\u001b[0m\u001b[1;39;49m]\u001b[0m\u001b[39;49m A new release of pip is available: \u001b[0m\u001b[31;49m23.3.2\u001b[0m\u001b[39;49m -> \u001b[0m\u001b[32;49m24.1.2\u001b[0m\n",
      "\u001b[1m[\u001b[0m\u001b[34;49mnotice\u001b[0m\u001b[1;39;49m]\u001b[0m\u001b[39;49m To update, run: \u001b[0m\u001b[32;49mpython3.11 -m pip install --upgrade pip\u001b[0m\n"
     ]
    },
    {
     "data": {
      "text/plain": [
       "0"
      ]
     },
     "execution_count": 6,
     "metadata": {},
     "output_type": "execute_result"
    }
   ],
   "source": [
    "import sys\n",
    "import subprocess\n",
    "\n",
    "# Install the wfdb package using pip\n",
    "subprocess.check_call([sys.executable, \"-m\", \"pip\", \"install\", \"wfdb\"])"
   ]
  },
  {
   "cell_type": "code",
   "execution_count": 10,
   "id": "7772718f-08b7-4462-8d48-840ba7aa13f1",
   "metadata": {
    "scrolled": true
   },
   "outputs": [
    {
     "name": "stdout",
     "output_type": "stream",
     "text": [
      "Requirement already satisfied: pyabf in /opt/homebrew/lib/python3.11/site-packages (2.3.8)\n",
      "Requirement already satisfied: matplotlib>=2.1.0 in /opt/homebrew/lib/python3.11/site-packages (from pyabf) (3.8.0)\n",
      "Requirement already satisfied: numpy>=1.13.3 in /opt/homebrew/lib/python3.11/site-packages (from pyabf) (1.26.0)\n",
      "Requirement already satisfied: pytest>=3.0.7 in /opt/homebrew/lib/python3.11/site-packages (from pyabf) (8.3.2)\n",
      "Requirement already satisfied: contourpy>=1.0.1 in /opt/homebrew/lib/python3.11/site-packages (from matplotlib>=2.1.0->pyabf) (1.1.1)\n",
      "Requirement already satisfied: cycler>=0.10 in /opt/homebrew/lib/python3.11/site-packages (from matplotlib>=2.1.0->pyabf) (0.12.1)\n",
      "Requirement already satisfied: fonttools>=4.22.0 in /opt/homebrew/lib/python3.11/site-packages (from matplotlib>=2.1.0->pyabf) (4.43.1)\n",
      "Requirement already satisfied: kiwisolver>=1.0.1 in /opt/homebrew/lib/python3.11/site-packages (from matplotlib>=2.1.0->pyabf) (1.4.5)\n",
      "Requirement already satisfied: packaging>=20.0 in /opt/homebrew/lib/python3.11/site-packages (from matplotlib>=2.1.0->pyabf) (23.2)\n",
      "Requirement already satisfied: pillow>=6.2.0 in /opt/homebrew/lib/python3.11/site-packages (from matplotlib>=2.1.0->pyabf) (10.0.1)\n",
      "Requirement already satisfied: pyparsing>=2.3.1 in /opt/homebrew/lib/python3.11/site-packages (from matplotlib>=2.1.0->pyabf) (3.1.1)\n",
      "Requirement already satisfied: python-dateutil>=2.7 in /opt/homebrew/lib/python3.11/site-packages (from matplotlib>=2.1.0->pyabf) (2.8.2)\n",
      "Requirement already satisfied: iniconfig in /opt/homebrew/lib/python3.11/site-packages (from pytest>=3.0.7->pyabf) (2.0.0)\n",
      "Requirement already satisfied: pluggy<2,>=1.5 in /opt/homebrew/lib/python3.11/site-packages (from pytest>=3.0.7->pyabf) (1.5.0)\n",
      "Requirement already satisfied: six>=1.5 in /opt/homebrew/lib/python3.11/site-packages (from python-dateutil>=2.7->matplotlib>=2.1.0->pyabf) (1.16.0)\n"
     ]
    },
    {
     "name": "stderr",
     "output_type": "stream",
     "text": [
      "\n",
      "\u001b[1m[\u001b[0m\u001b[34;49mnotice\u001b[0m\u001b[1;39;49m]\u001b[0m\u001b[39;49m A new release of pip is available: \u001b[0m\u001b[31;49m23.3.2\u001b[0m\u001b[39;49m -> \u001b[0m\u001b[32;49m24.1.2\u001b[0m\n",
      "\u001b[1m[\u001b[0m\u001b[34;49mnotice\u001b[0m\u001b[1;39;49m]\u001b[0m\u001b[39;49m To update, run: \u001b[0m\u001b[32;49mpython3.11 -m pip install --upgrade pip\u001b[0m\n"
     ]
    },
    {
     "data": {
      "text/plain": [
       "0"
      ]
     },
     "execution_count": 10,
     "metadata": {},
     "output_type": "execute_result"
    }
   ],
   "source": [
    "import sys\n",
    "import subprocess\n",
    "\n",
    "# Install the pyABF package using pip\n",
    "subprocess.check_call([sys.executable, \"-m\", \"pip\", \"install\", \"pyabf\"])\n"
   ]
  },
  {
   "cell_type": "code",
   "execution_count": null,
   "id": "4fb8729b-ba0b-4751-9aa6-97613036a367",
   "metadata": {},
   "outputs": [],
   "source": [
    "######################### BUILD THE DATASET ############################"
   ]
  },
  {
   "cell_type": "code",
   "execution_count": 107,
   "id": "f33f074e-13ed-403d-882f-fd07893218bc",
   "metadata": {},
   "outputs": [],
   "source": [
    "# Function to plot phases based on given start and end times\n",
    "def plot_phases(sweepX, sweepY, phase_times):\n",
    "    plt.figure(figsize=(15, 6))\n",
    "    \n",
    "    # Define colors for each phase\n",
    "    colors = {\n",
    "        0: \"red\",\n",
    "        1: \"orange\",\n",
    "        2: \"yellow\",\n",
    "        3: \"green\",\n",
    "        4: \"blue\"\n",
    "    }\n",
    "    \n",
    "    # Plot the original signal\n",
    "    plt.plot(sweepX, sweepY, label=\"Original Signal\", color='black')\n",
    "    \n",
    "    # Plot each phase with a distinct color\n",
    "    for phase, (start_time, end_time) in enumerate(phase_times):\n",
    "        phase_indices = np.where((sweepX >= start_time) & (sweepX <= end_time))[0]\n",
    "        plt.plot(sweepX[phase_indices], sweepY[phase_indices], '.', color=colors[phase], label=f\"Phase {phase}\")\n",
    "    \n",
    "    plt.xlabel(\"Time (s)\")\n",
    "    plt.ylabel(\"Amplitude (pA or mV)\")\n",
    "    plt.title(\"Action Potential Phases\")\n",
    "    plt.legend()\n",
    "    plt.grid(True)\n",
    "    plt.show()"
   ]
  },
  {
   "cell_type": "code",
   "execution_count": 523,
   "id": "00b160de-505d-45d8-8d5a-a3aed7fcf4d3",
   "metadata": {},
   "outputs": [],
   "source": [
    "# define save function\n",
    "\n",
    "import csv\n",
    "import os\n",
    "\n",
    "def save_to_csv(sweepX, sweepY, phase_times, csv_file_path, random_sweep_index):\n",
    "    # Save phase times and derivatives to CSV\n",
    "    file_exists = os.path.isfile(csv_file_path)\n",
    "    with open(csv_file_path, mode='a', newline='') as file:\n",
    "        writer = csv.writer(file)\n",
    "        if not file_exists:\n",
    "            writer.writerow(['File Path', 'Phase', 'Start Time (s)', 'End Time (s)', 'X Values', 'Y Values', 'Sweep Index'])\n",
    "        for phase, (start_time, end_time) in enumerate(phase_times):\n",
    "            phase_indices = np.where((sweepX >= start_time) & (sweepX <= end_time))[0]\n",
    "            phase_x_values = sweepX[phase_indices].tolist()\n",
    "            phase_y_values = sweepY[phase_indices].tolist()\n",
    "            writer.writerow([file_path, phase, start_time, end_time, phase_x_values, phase_y_values, random_sweep_index])\n",
    "    \n",
    "    print(f\"Phase times and x,y saved to {csv_file_path}\")"
   ]
  },
  {
   "cell_type": "code",
   "execution_count": 569,
   "id": "7bd025de-0e0a-45c7-9a77-cc0b7a93abf2",
   "metadata": {},
   "outputs": [
    {
     "name": "stdout",
     "output_type": "stream",
     "text": [
      "Randomly chosen filename: sub-2-6-2020/sam-2020-02-06-0004-CF/2020_02_06_0004_CF.abf\n",
      "Randomly chosen sweep index: 184\n"
     ]
    }
   ],
   "source": [
    "# import packages\n",
    "import pyabf\n",
    "import numpy as np\n",
    "import matplotlib.pyplot as plt\n",
    "import random\n",
    "import pandas as pd\n",
    "\n",
    "# read the file\n",
    "# Define the path to the Excel file\n",
    "excel_file_path = \"/Users/b/bio/cardiac/Pennsieve-dataset-297-version-1/files/primary/manifest.xlsx\"\n",
    "\n",
    "# Read the Excel file\n",
    "df = pd.read_excel(excel_file_path)\n",
    "\n",
    "# Select the \"filename\" column\n",
    "filenames = df['filename']\n",
    "\n",
    "# Choose a random filename\n",
    "random_filename = random.choice(filenames)\n",
    "\n",
    "file_path = \"/Users/b/bio/cardiac/Pennsieve-dataset-297-version-1/files/primary/\" + random_filename\n",
    "print(f\"Randomly chosen filename: {random_filename}\")\n",
    "\n",
    "# Load the ABF file\n",
    "abf = pyabf.ABF(file_path)\n",
    "\n",
    "# Get the total number of sweeps\n",
    "sweep_count = abf.sweepCount\n",
    "\n",
    "# Choose a random sweep index\n",
    "random_sweep_index = random.randint(0, sweep_count - 1)\n",
    "print(f\"Randomly chosen sweep index: {random_sweep_index}\")"
   ]
  },
  {
   "cell_type": "code",
   "execution_count": 577,
   "id": "a3297ca5-4ead-475c-a88f-ed52b503d3e6",
   "metadata": {},
   "outputs": [
    {
     "data": {
      "image/png": "[encoded data removed]",
      "text/plain": [
       "<Figure size 1500x600 with 1 Axes>"
      ]
     },
     "metadata": {},
     "output_type": "display_data"
    }
   ],
   "source": [
    "##### Analyze and get the sweep data\n",
    "abf.setSweep(random_sweep_index)\n",
    "sweepX = abf.sweepX\n",
    "sweepY = abf.sweepY\n",
    "\n",
    "\n",
    "# Define the phase times (start_time, end_time) for each phase\n",
    "phase_times = [\n",
    "    (0.02, 0.036),  # Phase 0\n",
    "    (0.036, 0.08),  # Phase 1\n",
    "    (0.08, 0.18),  # Phase 2\n",
    "    (0.18, 0.25),  # Phase 3\n",
    "    (0.25, 2.0)   # Phase 4\n",
    "]\n",
    "\n",
    "# Plot the phases\n",
    "plot_phases(sweepX, sweepY, phase_times)"
   ]
  },
  {
   "cell_type": "code",
   "execution_count": 578,
   "id": "4649033e-b7e0-4e95-a44e-770138e5454e",
   "metadata": {},
   "outputs": [
    {
     "name": "stdout",
     "output_type": "stream",
     "text": [
      "Phase times and x,y saved to /Users/b/bio/cardiac/phases.csv\n"
     ]
    }
   ],
   "source": [
    "# Define the CSV file path to save the phase times\n",
    "csv_file_path = \"/Users/b/bio/cardiac/phases.csv\"\n",
    "\n",
    "#save to CSV\n",
    "save_to_csv(sweepX, sweepY, phase_times, csv_file_path, random_sweep_index)\n",
    "\n"
   ]
  },
  {
   "cell_type": "code",
   "execution_count": 579,
   "id": "5df375a4-7882-4c75-b27c-6cb853642d03",
   "metadata": {},
   "outputs": [],
   "source": [
    "# train the classifier"
   ]
  },
  {
   "cell_type": "code",
   "execution_count": null,
   "id": "398f3e08-6cd2-44b9-95a3-ef1cda5365cd",
   "metadata": {},
   "outputs": [],
   "source": [
    "# the classifier will read in a sweep and output the domain for each of the phases. \n",
    "# train a single classifier to output the phases"
   ]
  },
  {
   "cell_type": "code",
   "execution_count": 583,
   "id": "0553d21f-8a58-44a2-a89f-1fd4ce31d63f",
   "metadata": {},
   "outputs": [
    {
     "data": {
      "text/plain": [
       "<bound method NDFrame.head of                                              File Path  Phase  Start Time (s)  \\\n",
       "0    /Users/b/bio/cardiac/Pennsieve-dataset-297-ver...      0           0.025   \n",
       "1    /Users/b/bio/cardiac/Pennsieve-dataset-297-ver...      1           0.035   \n",
       "2    /Users/b/bio/cardiac/Pennsieve-dataset-297-ver...      2           0.100   \n",
       "3    /Users/b/bio/cardiac/Pennsieve-dataset-297-ver...      3           0.300   \n",
       "4    /Users/b/bio/cardiac/Pennsieve-dataset-297-ver...      4           0.450   \n",
       "..                                                 ...    ...             ...   \n",
       "110  /Users/b/bio/cardiac/Pennsieve-dataset-297-ver...      0           0.020   \n",
       "111  /Users/b/bio/cardiac/Pennsieve-dataset-297-ver...      1           0.036   \n",
       "112  /Users/b/bio/cardiac/Pennsieve-dataset-297-ver...      2           0.080   \n",
       "113  /Users/b/bio/cardiac/Pennsieve-dataset-297-ver...      3           0.180   \n",
       "114  /Users/b/bio/cardiac/Pennsieve-dataset-297-ver...      4           0.250   \n",
       "\n",
       "     End Time (s)                                           X Values  \\\n",
       "0           0.035  [0.025, 0.0251, 0.0252, 0.0253, 0.025400000000...   \n",
       "1           0.100  [0.035, 0.0351, 0.0352, 0.035300000000000005, ...   \n",
       "2           0.300  [0.1, 0.10010000000000001, 0.10020000000000001...   \n",
       "3           0.450  [0.3, 0.30010000000000003, 0.3002, 0.3003, 0.3...   \n",
       "4           2.000  [0.45, 0.4501, 0.45020000000000004, 0.45030000...   \n",
       "..            ...                                                ...   \n",
       "110         0.036  [0.02, 0.020050000000000002, 0.0201, 0.02015, ...   \n",
       "111         0.080  [0.036000000000000004, 0.03605, 0.0361, 0.0361...   \n",
       "112         0.180  [0.08, 0.08005000000000001, 0.0801, 0.08015, 0...   \n",
       "113         0.250  [0.18000000000000002, 0.18005000000000002, 0.1...   \n",
       "114         2.000  [0.25, 0.25005, 0.2501, 0.25015000000000004, 0...   \n",
       "\n",
       "                                              Y Values  Sweep Number  \n",
       "0    [-82.122802734375, -82.122802734375, -82.09228...             0  \n",
       "1    [54.01611328125, 53.863525390625, 53.649902343...             0  \n",
       "2    [37.200927734375, 37.200927734375, 37.17041015...             0  \n",
       "3    [9.613037109375, 9.613037109375, 9.61303710937...             0  \n",
       "4    [-79.071044921875, -79.071044921875, -79.10156...             0  \n",
       "..                                                 ...           ...  \n",
       "110  [-79.40673828125, -79.437255859375, -79.437255...           184  \n",
       "111  [42.510986328125, 42.327880859375, 42.20581054...           184  \n",
       "112  [22.3388671875, 22.3388671875, 22.369384765625...           184  \n",
       "113  [-1.5869140625, -1.64794921875, -1.55639648437...           184  \n",
       "114  [-77.63671875, -77.667236328125, -77.697753906...           184  \n",
       "\n",
       "[115 rows x 7 columns]>"
      ]
     },
     "execution_count": 583,
     "metadata": {},
     "output_type": "execute_result"
    }
   ],
   "source": [
    "import pandas as pd\n",
    "import numpy as np\n",
    "from sklearn.model_selection import train_test_split\n",
    "from sklearn.ensemble import RandomForestClassifier\n",
    "from sklearn.metrics import accuracy_score\n",
    "\n",
    "\n",
    "df = pd.read_csv('/Users/b/bio/cardiac/phases.csv')\n"
   ]
  },
  {
   "cell_type": "code",
   "execution_count": 607,
   "id": "ec81fdce-6727-4086-9a5a-4a72ead29ece",
   "metadata": {},
   "outputs": [
    {
     "name": "stdout",
     "output_type": "stream",
     "text": [
      "0\n",
      "115\n"
     ]
    }
   ],
   "source": [
    "dataset = {}\n",
    "\n",
    "# read file, sweep number, phase number\n",
    "index = 0\n",
    "file = df['File Path'][index]\n",
    "sweepNum = df['Sweep Number'][index]\n",
    "phaseNum = df['Phase'][index]\n",
    "abf = pyabf.ABF(file)\n",
    "abf.setSweep(sweepNum)\n",
    "\n",
    "# Extract sweepX and sweepY\n",
    "sweepX = abf.sweepX\n",
    "sweepY = abf.sweepY\n",
    "\n",
    "# Create a list of tuples (x, y)\n",
    "totalSweep = list(zip(sweepX, sweepY))\n",
    "\n",
    "phase0_x = df['X Values'][index]\n",
    "phase0_y = df['Y Values'][index]\n",
    "phase0 = list(zip(phase0_x, phase0_y))\n",
    "\n",
    "phase1_x = df['X Values'][index+1]\n",
    "phase1_y = df['Y Values'][index+1]\n",
    "phase1 = list(zip(phase1_x, phase1_y))\n",
    "\n",
    "phase2_x = df['X Values'][index+2]\n",
    "phase2_y = df['Y Values'][index+2]\n",
    "phase2 = list(zip(phase2_x, phase2_y))\n",
    "\n",
    "phase3_x = df['X Values'][index+3]\n",
    "phase3_y = df['Y Values'][index+3]\n",
    "phase3 = list(zip(phase3_x, phase3_y))\n",
    "\n",
    "phase4_x = df['X Values'][index+4]\n",
    "phase4_y = df['Y Values'][index+4]\n",
    "phase4 = list(zip(phase4_x, phase4_y))\n",
    "\n",
    "dataset[str(totalSweep)] = [phase0, phase1, phase2, phase3, phase4]\n",
    "\n",
    "index+=5\n",
    "\n",
    "print(df['Phase'][index])\n",
    "print(len(df))\n",
    "\n",
    "\n",
    "\n"
   ]
  },
  {
   "cell_type": "code",
   "execution_count": 612,
   "id": "67ede410-6f90-472b-9bbb-7b2c5f523c10",
   "metadata": {},
   "outputs": [
    {
     "name": "stdout",
     "output_type": "stream",
     "text": [
      "4\n",
      "[0, 1, 2, 3, 4]\n",
      "[0, 1, 2, 3, 4]\n"
     ]
    }
   ],
   "source": [
    "import ast\n",
    "\n",
    "table = {}\n",
    "table[1] = 4\n",
    "print(table[1])\n",
    "lst = [0, 1, 2, 3, 4]\n",
    "print(str(lst))\n",
    "print(ast.literal_eval(str(lst)))"
   ]
  },
  {
   "cell_type": "code",
   "execution_count": null,
   "id": "5bbd16bb-ff7c-4cd6-8685-4f8686707e78",
   "metadata": {},
   "outputs": [],
   "source": [
    "# Phase 0 classifier\n",
    "dataset = {}\n",
    "\n",
    "# read file, sweep number, phase number\n",
    "index = 0\n",
    "file = df['File Path'][index]\n",
    "sweepNum = df['Sweep Number'][index]\n",
    "phaseNum = df['Phase'][index]\n",
    "abf = pyabf.ABF(file)\n",
    "abf.setSweep(sweepNum)\n",
    "\n",
    "# Extract sweepX and sweepY\n",
    "sweepX = abf.sweepX\n",
    "sweepY = abf.sweepY\n",
    "\n",
    "# Create a list of tuples (x, y)\n",
    "totalSweep = list(zip(sweepX, sweepY))\n",
    "\n",
    "phase0_x = df['X Values'][index]\n",
    "phase0_y = df['Y Values'][index]\n",
    "phase0 = list(zip(phase0_x, phase0_y))\n",
    "\n",
    "phase1_x = df['X Values'][index+1]\n",
    "phase1_y = df['Y Values'][index+1]\n",
    "phase1 = list(zip(phase1_x, phase1_y))\n",
    "\n",
    "phase2_x = df['X Values'][index+2]\n",
    "phase2_y = df['Y Values'][index+2]\n",
    "phase2 = list(zip(phase2_x, phase2_y))\n",
    "\n",
    "phase3_x = df['X Values'][index+3]\n",
    "phase3_y = df['Y Values'][index+3]\n",
    "phase3 = list(zip(phase3_x, phase3_y))\n",
    "\n",
    "phase4_x = df['X Values'][index+4]\n",
    "phase4_y = df['Y Values'][index+4]\n",
    "phase4 = list(zip(phase4_x, phase4_y))\n",
    "\n",
    "dataset[str(totalSweep)] = [phase0, phase1, phase2, phase3, phase4]\n"
   ]
  }
 ],
 "metadata": {
  "kernelspec": {
   "display_name": "Python 3 (ipykernel)",
   "language": "python",
   "name": "python3"
  },
  "language_info": {
   "codemirror_mode": {
    "name": "ipython",
    "version": 3
   },
   "file_extension": ".py",
   "mimetype": "text/x-python",
   "name": "python",
   "nbconvert_exporter": "python",
   "pygments_lexer": "ipython3",
   "version": "3.11.6"
  }
 },
 "nbformat": 4,
 "nbformat_minor": 5
}
